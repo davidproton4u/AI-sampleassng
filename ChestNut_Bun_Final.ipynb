{
  "nbformat": 4,
  "nbformat_minor": 0,
  "metadata": {
    "colab": {
      "provenance": [],
      "authorship_tag": "ABX9TyMA5hU6AS8sDk/pvC8cNRLE",
      "include_colab_link": true
    },
    "kernelspec": {
      "name": "python3",
      "display_name": "Python 3"
    },
    "language_info": {
      "name": "python"
    }
  },
  "cells": [
    {
      "cell_type": "markdown",
      "metadata": {
        "id": "view-in-github",
        "colab_type": "text"
      },
      "source": [
        "<a href=\"https://colab.research.google.com/github/davidproton4u/AI-sampleassng/blob/main/ChestNut_Bun_Final.ipynb\" target=\"_parent\"><img src=\"https://colab.research.google.com/assets/colab-badge.svg\" alt=\"Open In Colab\"/></a>"
      ]
    },
    {
      "cell_type": "code",
      "source": [
        "def solar_system(object_size):\n",
        "    solar_system_size = 50000\n",
        "    time = 0\n",
        "\n",
        "    while True:\n",
        "        if object_size >= solar_system_size:\n",
        "            break\n",
        "        else:\n",
        "            object_size *= 2\n",
        "            time += 5\n",
        "    return print(\"It will take the Chestnut Bun {} minutes to cover the solar system.\".format(time))\n",
        "\n",
        "solar_system(500) #We assume that the chestnut Bun volume is 500 m3."
      ],
      "metadata": {
        "colab": {
          "base_uri": "https://localhost:8080/"
        },
        "id": "mjadeuu6hPPy",
        "outputId": "5f9f0ba6-04a1-4a6a-d6fe-9dff2e49b382"
      },
      "execution_count": 1,
      "outputs": [
        {
          "output_type": "stream",
          "name": "stdout",
          "text": [
            "It will take the Chestnut Bun 35 minutes to cover the solar system.\n"
          ]
        }
      ]
    },
    {
      "cell_type": "markdown",
      "source": [
        "#Graphical Representation of the Dome"
      ],
      "metadata": {
        "id": "EbObPG4PhxlD"
      }
    },
    {
      "cell_type": "code",
      "execution_count": 6,
      "metadata": {
        "colab": {
          "base_uri": "https://localhost:8080/",
          "height": 384
        },
        "id": "B13Bs-mOhHLd",
        "outputId": "88e4724c-22dc-4a20-b254-0db986025bdd"
      },
      "outputs": [
        {
          "output_type": "stream",
          "name": "stderr",
          "text": [
            "<ipython-input-6-cd017ded881c>:17: UserWarning: color is redundantly defined by the 'color' keyword argument and the fmt string \"b-o\" (-> color='b'). The keyword argument will take precedence.\n",
            "  plt.plot(minutes, size, 'b-o', linewidth=2, markersize=12, markeredgewidth=3, markeredgecolor='Blue', color=\"Yellow\")\n",
            "WARNING:matplotlib.legend:No artists with labels found to put in legend.  Note that artists whose label start with an underscore are ignored when legend() is called with no argument.\n"
          ]
        },
        {
          "output_type": "stream",
          "name": "stdout",
          "text": [
            "It takes 30 Minutes\n"
          ]
        },
        {
          "output_type": "display_data",
          "data": {
            "text/plain": [
              "<Figure size 432x288 with 1 Axes>"
            ],
            "image/png": "[encoded data removed]"
          },
          "metadata": {
            "needs_background": "light"
          }
        }
      ],
      "source": [
        "def Tokyo_Dome(object_size):\n",
        "    size_tokyo_dome = 500000 #Size of the Tokyo Dome is in Cubic Meters\n",
        "    time = 0\n",
        "    minutes = []\n",
        "    size = []\n",
        "    while True:\n",
        "        if object_size >= size_tokyo_dome:\n",
        "            break\n",
        "        else:\n",
        "            object_size *=2\n",
        "            time +=5\n",
        "            minutes.append(time)\n",
        "            size.append(object_size)\n",
        "\n",
        "    import matplotlib.pyplot as plt\n",
        "\n",
        "    plt.plot(minutes, size, 'b-o', linewidth=2, markersize=12, markeredgewidth=3, markeredgecolor='Blue', color=\"Yellow\")\n",
        "    plt.xlabel('Time in Minutes')\n",
        "    plt.ylabel('Size of the object')\n",
        "    plt.title(\"Relating to Tokyo Dome Situation\")\n",
        "    plt.legend(loc='upper center')\n",
        "    print(\"It takes {} Minutes\".format(time))\n",
        "\n",
        "Tokyo_Dome(10000)"
      ]
    }
  ]
}