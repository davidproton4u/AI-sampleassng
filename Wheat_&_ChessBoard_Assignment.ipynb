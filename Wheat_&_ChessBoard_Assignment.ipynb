{
  "nbformat": 4,
  "nbformat_minor": 0,
  "metadata": {
    "colab": {
      "provenance": [],
      "authorship_tag": "ABX9TyOJ81q6wvXK8PCcc+WYF/TZ",
      "include_colab_link": true
    },
    "kernelspec": {
      "name": "python3",
      "display_name": "Python 3"
    },
    "language_info": {
      "name": "python"
    }
  },
  "cells": [
    {
      "cell_type": "markdown",
      "metadata": {
        "id": "view-in-github",
        "colab_type": "text"
      },
      "source": [
        "<a href=\"https://colab.research.google.com/github/davidproton4u/AI-sampleassng/blob/main/Wheat_%26_ChessBoard_Assignment.ipynb\" target=\"_parent\"><img src=\"https://colab.research.google.com/assets/colab-badge.svg\" alt=\"Open In Colab\"/></a>"
      ]
    },
    {
      "cell_type": "markdown",
      "source": [
        "#W & C - 2x2 Chess board"
      ],
      "metadata": {
        "id": "heMfmeFypgdw"
      }
    },
    {
      "cell_type": "code",
      "execution_count": 1,
      "metadata": {
        "colab": {
          "base_uri": "https://localhost:8080/"
        },
        "id": "UaCF8s4JpPDO",
        "outputId": "3a59908e-fee9-453d-84a4-135d1a6429bb"
      },
      "outputs": [
        {
          "output_type": "stream",
          "name": "stdout",
          "text": [
            "The number of Wheats on a 2x2 shaped ndarray are: \n",
            "[[1 2]\n",
            " [4 8]]\n"
          ]
        }
      ],
      "source": [
        "import numpy as np\n",
        "number_square = 4\n",
        "small_board_list = [1]\n",
        "for _ in range(number_square - 1):\n",
        "    small_board_list.append(2*small_board_list[-1])\n",
        "small_board_ndarray = np.array(small_board_list).reshape(2,2)\n",
        "print(\"The number of Wheats on a 2x2 shaped ndarray are: \\n{}\".format(small_board_ndarray))"
      ]
    },
    {
      "cell_type": "markdown",
      "source": [
        "#W & C - Expansion"
      ],
      "metadata": {
        "id": "pNZrzPuVpr09"
      }
    },
    {
      "cell_type": "code",
      "source": [
        "#Function definition\n",
        "def num_of_wheat(n,m):\n",
        "    chess_square = n*m\n",
        "    chessBoardlist = [1]\n",
        "    for square in range (chess_square-1):\n",
        "      chessBoardlist.append(2*chessBoardlist[square])\n",
        "\n",
        "    return np.array(chessBoardlist).reshape(n,m).astype(np.uint64)\n",
        "print(\"Number of Wheats on a 8/8 Chess Board is: \")\n",
        "print(num_of_wheat(8,8))\n"
      ],
      "metadata": {
        "colab": {
          "base_uri": "https://localhost:8080/"
        },
        "id": "veuOVJ_PpoIj",
        "outputId": "48992400-2ef6-4fef-f804-1232e8bcf988"
      },
      "execution_count": 2,
      "outputs": [
        {
          "output_type": "stream",
          "name": "stdout",
          "text": [
            "Number of Wheats on a 8/8 Chess Board is: \n",
            "[[                  1                   2                   4\n",
            "                    8                  16                  32\n",
            "                   64                 128]\n",
            " [                256                 512                1024\n",
            "                 2048                4096                8192\n",
            "                16384               32768]\n",
            " [              65536              131072              262144\n",
            "               524288             1048576             2097152\n",
            "              4194304             8388608]\n",
            " [           16777216            33554432            67108864\n",
            "            134217728           268435456           536870912\n",
            "           1073741824          2147483648]\n",
            " [         4294967296          8589934592         17179869184\n",
            "          34359738368         68719476736        137438953472\n",
            "         274877906944        549755813888]\n",
            " [      1099511627776       2199023255552       4398046511104\n",
            "        8796093022208      17592186044416      35184372088832\n",
            "       70368744177664     140737488355328]\n",
            " [    281474976710656     562949953421312    1125899906842624\n",
            "     2251799813685248    4503599627370496    9007199254740992\n",
            "    18014398509481984   36028797018963968]\n",
            " [  72057594037927936  144115188075855872  288230376151711744\n",
            "   576460752303423488 1152921504606846976 2305843009213693952\n",
            "  4611686018427387904 9223372036854775808]]\n"
          ]
        }
      ]
    },
    {
      "cell_type": "markdown",
      "source": [
        "#W & C - Total Number of Wheat"
      ],
      "metadata": {
        "id": "haUwz2LOp3HQ"
      }
    },
    {
      "cell_type": "code",
      "source": [
        " chessboard_ndarray = num_of_wheat(8,8)\n",
        " total_wheat = chessboard_ndarray.sum()\n",
        " print(\"The Total Number of Wheat Expected is: \", total_wheat)"
      ],
      "metadata": {
        "colab": {
          "base_uri": "https://localhost:8080/"
        },
        "id": "GjA4l1qlpyTp",
        "outputId": "c80c679f-426b-4893-ee8d-c2ff5f0cb756"
      },
      "execution_count": 3,
      "outputs": [
        {
          "output_type": "stream",
          "name": "stdout",
          "text": [
            "The Total Number of Wheat Expected is:  18446744073709551615\n"
          ]
        }
      ]
    },
    {
      "cell_type": "markdown",
      "source": [
        "# W & C - The Average of each column on a 8*8 Chess Board"
      ],
      "metadata": {
        "id": "P5jXhYL9p_SF"
      }
    },
    {
      "cell_type": "code",
      "source": [
        "average_wheat = num_of_wheat(8,8).mean(axis=0)\n",
        "print(\"Average of Each column on the 8*8 ChessBoard is: \\n{}\".format(average_wheat))"
      ],
      "metadata": {
        "colab": {
          "base_uri": "https://localhost:8080/"
        },
        "id": "LKeNkFZNp-qv",
        "outputId": "b7044a0c-77e7-445b-f466-a797e2bd5fe8"
      },
      "execution_count": 4,
      "outputs": [
        {
          "output_type": "stream",
          "name": "stdout",
          "text": [
            "Average of Each column on the 8*8 ChessBoard is: \n",
            "[9.04252160e+15 1.80850432e+16 3.61700864e+16 7.23401728e+16\n",
            " 1.44680346e+17 2.89360691e+17 5.78721383e+17 1.15744277e+18]\n"
          ]
        }
      ]
    },
    {
      "cell_type": "markdown",
      "source": [
        "#W & C - Bar Graph Presentation"
      ],
      "metadata": {
        "id": "-Lg5GF_sqNdY"
      }
    },
    {
      "cell_type": "code",
      "source": [
        "import matplotlib.pyplot as plt\n",
        "%matplotlib inline\n",
        "plt.xlabel(\"Columns\")\n",
        "plt.ylabel(\"Numbers\")\n",
        "plt.title(\"Number in each Column\")\n",
        "plt.bar(np.arange(1,9),average_wheat)\n",
        "plt.show()"
      ],
      "metadata": {
        "colab": {
          "base_uri": "https://localhost:8080/",
          "height": 295
        },
        "id": "RfbJ7Z3PqJlc",
        "outputId": "e2642abb-bd3c-4445-8082-ce6d0a0db7aa"
      },
      "execution_count": 5,
      "outputs": [
        {
          "output_type": "display_data",
          "data": {
            "text/plain": [
              "<Figure size 432x288 with 1 Axes>"
            ],
            "image/png": "[encoded data removed]"
          },
          "metadata": {
            "needs_background": "light"
          }
        }
      ]
    },
    {
      "cell_type": "markdown",
      "source": [
        "# W & C - Heat Map - Number of Wheat"
      ],
      "metadata": {
        "id": "2bR8zKROqZtn"
      }
    },
    {
      "cell_type": "code",
      "source": [
        "n_squares = 64\n",
        "small_board_list = [1]\n",
        "for _ in range(n_squares - 1):\n",
        "    small_board_list.append(2*small_board_list[-1])\n",
        "print(small_board_list)"
      ],
      "metadata": {
        "colab": {
          "base_uri": "https://localhost:8080/"
        },
        "id": "jCl-SVxrqWbe",
        "outputId": "b141a9fa-f088-4b36-d6a3-3287a32b33a7"
      },
      "execution_count": 6,
      "outputs": [
        {
          "output_type": "stream",
          "name": "stdout",
          "text": [
            "[1, 2, 4, 8, 16, 32, 64, 128, 256, 512, 1024, 2048, 4096, 8192, 16384, 32768, 65536, 131072, 262144, 524288, 1048576, 2097152, 4194304, 8388608, 16777216, 33554432, 67108864, 134217728, 268435456, 536870912, 1073741824, 2147483648, 4294967296, 8589934592, 17179869184, 34359738368, 68719476736, 137438953472, 274877906944, 549755813888, 1099511627776, 2199023255552, 4398046511104, 8796093022208, 17592186044416, 35184372088832, 70368744177664, 140737488355328, 281474976710656, 562949953421312, 1125899906842624, 2251799813685248, 4503599627370496, 9007199254740992, 18014398509481984, 36028797018963968, 72057594037927936, 144115188075855872, 288230376151711744, 576460752303423488, 1152921504606846976, 2305843009213693952, 4611686018427387904, 9223372036854775808]\n"
          ]
        }
      ]
    },
    {
      "cell_type": "markdown",
      "source": [
        "#W & C - - Heat Map Presentation"
      ],
      "metadata": {
        "id": "iiQFWgnkqnX3"
      }
    },
    {
      "cell_type": "code",
      "source": [
        "plt.xlabel(\"Columns\")\n",
        "plt.ylabel(\"Numbers\")\n",
        "plt.title(\"Heat Map Presentation\")\n",
        "plt.pcolor(np.array(small_board_list).reshape(8, 8))\n",
        "plt.show()"
      ],
      "metadata": {
        "colab": {
          "base_uri": "https://localhost:8080/",
          "height": 295
        },
        "id": "WF7HrHYDqh6-",
        "outputId": "b12adc79-c3f3-435a-9e26-d3d8d4835bdf"
      },
      "execution_count": 7,
      "outputs": [
        {
          "output_type": "display_data",
          "data": {
            "text/plain": [
              "<Figure size 432x288 with 1 Axes>"
            ],
            "image/png": "[encoded data removed]"
          },
          "metadata": {
            "needs_background": "light"
          }
        }
      ]
    },
    {
      "cell_type": "markdown",
      "source": [
        "#W & C - - Second Half is First Half"
      ],
      "metadata": {
        "id": "8LeLFqeoqwZj"
      }
    },
    {
      "cell_type": "code",
      "source": [
        "#creating a data frame for the chess\n",
        "whole_chessboard = num_of_wheat(8,8)\n",
        "#slicing the data\n",
        "first_half = whole_chessboard[0:4]\n",
        "second_half = whole_chessboard[4:8]\n",
        "print(\"...................First half of the Chess Boad ...................\")\n",
        "print(first_half)\n",
        "print(\"...................Second half of the Chess Boad ...................\")\n",
        "print(second_half)"
      ],
      "metadata": {
        "colab": {
          "base_uri": "https://localhost:8080/"
        },
        "id": "ozVBa2z7qtKn",
        "outputId": "560df4dd-b7f2-4ade-fb7d-6a0f3c19bde4"
      },
      "execution_count": 8,
      "outputs": [
        {
          "output_type": "stream",
          "name": "stdout",
          "text": [
            "...................First half of the Chess Boad ...................\n",
            "[[         1          2          4          8         16         32\n",
            "          64        128]\n",
            " [       256        512       1024       2048       4096       8192\n",
            "       16384      32768]\n",
            " [     65536     131072     262144     524288    1048576    2097152\n",
            "     4194304    8388608]\n",
            " [  16777216   33554432   67108864  134217728  268435456  536870912\n",
            "  1073741824 2147483648]]\n",
            "...................Second half of the Chess Boad ...................\n",
            "[[         4294967296          8589934592         17179869184\n",
            "          34359738368         68719476736        137438953472\n",
            "         274877906944        549755813888]\n",
            " [      1099511627776       2199023255552       4398046511104\n",
            "        8796093022208      17592186044416      35184372088832\n",
            "       70368744177664     140737488355328]\n",
            " [    281474976710656     562949953421312    1125899906842624\n",
            "     2251799813685248    4503599627370496    9007199254740992\n",
            "    18014398509481984   36028797018963968]\n",
            " [  72057594037927936  144115188075855872  288230376151711744\n",
            "   576460752303423488 1152921504606846976 2305843009213693952\n",
            "  4611686018427387904 9223372036854775808]]\n"
          ]
        }
      ]
    },
    {
      "cell_type": "markdown",
      "source": [
        "#W & C - - Expansion to n*m mass"
      ],
      "metadata": {
        "id": "YtA5m8Y7q6Yc"
      }
    },
    {
      "cell_type": "code",
      "source": [
        "indices_of_squares = np.arange(n_squares).astype(np.uint64)\n",
        "board_broadcast = 2**indices_of_squares\n",
        "print(\"Number of Wheat in the Last trout :\\n{}\".format(board_broadcast))"
      ],
      "metadata": {
        "colab": {
          "base_uri": "https://localhost:8080/"
        },
        "id": "nkFOGaR4q3md",
        "outputId": "91fa732e-65a0-4b10-ecbd-4b214267cb4d"
      },
      "execution_count": 9,
      "outputs": [
        {
          "output_type": "stream",
          "name": "stdout",
          "text": [
            "Number of Wheat in the Last trout :\n",
            "[                  1                   2                   4\n",
            "                   8                  16                  32\n",
            "                  64                 128                 256\n",
            "                 512                1024                2048\n",
            "                4096                8192               16384\n",
            "               32768               65536              131072\n",
            "              262144              524288             1048576\n",
            "             2097152             4194304             8388608\n",
            "            16777216            33554432            67108864\n",
            "           134217728           268435456           536870912\n",
            "          1073741824          2147483648          4294967296\n",
            "          8589934592         17179869184         34359738368\n",
            "         68719476736        137438953472        274877906944\n",
            "        549755813888       1099511627776       2199023255552\n",
            "       4398046511104       8796093022208      17592186044416\n",
            "      35184372088832      70368744177664     140737488355328\n",
            "     281474976710656     562949953421312    1125899906842624\n",
            "    2251799813685248    4503599627370496    9007199254740992\n",
            "   18014398509481984   36028797018963968   72057594037927936\n",
            "  144115188075855872  288230376151711744  576460752303423488\n",
            " 1152921504606846976 2305843009213693952 4611686018427387904\n",
            " 9223372036854775808]\n"
          ]
        }
      ]
    },
    {
      "cell_type": "markdown",
      "source": [
        "#W & C - Comparison of Calculated Time"
      ],
      "metadata": {
        "id": "QcuKvBGSrDXw"
      }
    },
    {
      "cell_type": "code",
      "source": [
        "%%timeit\n",
        "small_board_ndarray"
      ],
      "metadata": {
        "colab": {
          "base_uri": "https://localhost:8080/"
        },
        "id": "9-GeidmtrC4d",
        "outputId": "760a195c-0fe4-4d35-dd69-56405e2d26a5"
      },
      "execution_count": 10,
      "outputs": [
        {
          "output_type": "stream",
          "name": "stdout",
          "text": [
            "34.4 ns ± 7.28 ns per loop (mean ± std. dev. of 7 runs, 10000000 loops each)\n"
          ]
        }
      ]
    },
    {
      "cell_type": "code",
      "source": [
        "%%timeit\n",
        "small_board_ndarray"
      ],
      "metadata": {
        "colab": {
          "base_uri": "https://localhost:8080/"
        },
        "id": "NXgJu_kprMUa",
        "outputId": "c76820a6-3239-4bcb-c28b-38f1439261ba"
      },
      "execution_count": 11,
      "outputs": [
        {
          "output_type": "stream",
          "name": "stdout",
          "text": [
            "31.2 ns ± 0.351 ns per loop (mean ± std. dev. of 7 runs, 10000000 loops each)\n"
          ]
        }
      ]
    },
    {
      "cell_type": "code",
      "source": [
        "%%timeit\n",
        "board_broadcast"
      ],
      "metadata": {
        "colab": {
          "base_uri": "https://localhost:8080/"
        },
        "id": "uNGcbVFQrPM9",
        "outputId": "6d654424-ded5-4889-f878-e5fb48a931c1"
      },
      "execution_count": 12,
      "outputs": [
        {
          "output_type": "stream",
          "name": "stdout",
          "text": [
            "29.8 ns ± 0.686 ns per loop (mean ± std. dev. of 7 runs, 10000000 loops each)\n"
          ]
        }
      ]
    }
  ]
}