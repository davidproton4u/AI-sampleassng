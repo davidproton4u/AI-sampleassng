{
  "nbformat": 4,
  "nbformat_minor": 0,
  "metadata": {
    "colab": {
      "provenance": [],
      "authorship_tag": "ABX9TyNbVLJ/puKWZUG7dDr38/HW",
      "include_colab_link": true
    },
    "kernelspec": {
      "name": "python3",
      "display_name": "Python 3"
    },
    "language_info": {
      "name": "python"
    }
  },
  "cells": [
    {
      "cell_type": "markdown",
      "metadata": {
        "id": "view-in-github",
        "colab_type": "text"
      },
      "source": [
        "<a href=\"https://colab.research.google.com/github/davidproton4u/AI-sampleassng/blob/main/Linear_Regression.ipynb\" target=\"_parent\"><img src=\"https://colab.research.google.com/assets/colab-badge.svg\" alt=\"Open In Colab\"/></a>"
      ]
    },
    {
      "cell_type": "code",
      "execution_count": 1,
      "metadata": {
        "id": "BN8acKOGk7P1"
      },
      "outputs": [],
      "source": [
        "import numpy as np\n",
        "x1=np.array([0,1,2,3,4,5,6,7,8,9])\n",
        "x0=np.ones(x1.shape[0])\n",
        "x=np.concatenate([x0.reshape(-1,1),x1.reshape(-1,1)],axis=1)\n",
        "theta=np.random.randn(x.shape[1])"
      ]
    },
    {
      "cell_type": "code",
      "source": [
        "x.shape"
      ],
      "metadata": {
        "colab": {
          "base_uri": "https://localhost:8080/"
        },
        "id": "90TawYsflO_j",
        "outputId": "5cc3e276-6b1a-402d-92e1-f59bd5432a8c"
      },
      "execution_count": 2,
      "outputs": [
        {
          "output_type": "execute_result",
          "data": {
            "text/plain": [
              "(10, 2)"
            ]
          },
          "metadata": {},
          "execution_count": 2
        }
      ]
    },
    {
      "cell_type": "code",
      "source": [
        "theta"
      ],
      "metadata": {
        "colab": {
          "base_uri": "https://localhost:8080/"
        },
        "id": "9NsDJcx2lPRe",
        "outputId": "56fda25e-be5a-491a-eb0b-e817511bc98e"
      },
      "execution_count": 3,
      "outputs": [
        {
          "output_type": "execute_result",
          "data": {
            "text/plain": [
              "array([ 0.46272797, -1.13977198])"
            ]
          },
          "metadata": {},
          "execution_count": 3
        }
      ]
    },
    {
      "cell_type": "code",
      "source": [
        "np.dot(x,theta)"
      ],
      "metadata": {
        "colab": {
          "base_uri": "https://localhost:8080/"
        },
        "id": "jk5BXQillPck",
        "outputId": "2f83ad5d-a8e2-4133-cea7-2329314ffa71"
      },
      "execution_count": 4,
      "outputs": [
        {
          "output_type": "execute_result",
          "data": {
            "text/plain": [
              "array([ 0.46272797, -0.67704401, -1.81681599, -2.95658798, -4.09635996,\n",
              "       -5.23613194, -6.37590392, -7.5156759 , -8.65544788, -9.79521986])"
            ]
          },
          "metadata": {},
          "execution_count": 4
        }
      ]
    },
    {
      "cell_type": "code",
      "source": [
        "x1=np.array([0,1,2,3,4,5,6,7,8])\n",
        "y=np.array([2,4,2,1,6,7,8,5,2])\n",
        "x0= np.ones(x1.shape[0])\n",
        "x=np.concatenate([x0.reshape(-1,1),x1.reshape(-1,1)],axis=1)\n",
        "theta=np.random.randn(2)\n",
        "y1=np.dot(x,theta)\n",
        "alpha=0.01\n",
        "error=(y1-y)\n",
        "theta[0]=theta[0]-alpha*np.mean(error)\n",
        "theta[1]=theta[1]-alpha*np.mean(error*x1)"
      ],
      "metadata": {
        "id": "d7nu2pwelPl1"
      },
      "execution_count": 5,
      "outputs": []
    },
    {
      "cell_type": "code",
      "source": [
        "np.mean(error)"
      ],
      "metadata": {
        "colab": {
          "base_uri": "https://localhost:8080/"
        },
        "id": "rZeOKtVUlPu3",
        "outputId": "793e3b08-401d-4dab-8444-fa9d916b258f"
      },
      "execution_count": 6,
      "outputs": [
        {
          "output_type": "execute_result",
          "data": {
            "text/plain": [
              "-4.94000748266527"
            ]
          },
          "metadata": {},
          "execution_count": 6
        }
      ]
    },
    {
      "cell_type": "code",
      "source": [
        "np.mean(error*x1)"
      ],
      "metadata": {
        "colab": {
          "base_uri": "https://localhost:8080/"
        },
        "id": "XP_zrbrylP4b",
        "outputId": "5fb72781-f534-4664-a8d6-e26c74cff74a"
      },
      "execution_count": 7,
      "outputs": [
        {
          "output_type": "execute_result",
          "data": {
            "text/plain": [
              "-22.134802804464545"
            ]
          },
          "metadata": {},
          "execution_count": 7
        }
      ]
    },
    {
      "cell_type": "code",
      "source": [
        "np.dot(error,x)"
      ],
      "metadata": {
        "id": "iVuTdDMylQB2"
      },
      "execution_count": null,
      "outputs": []
    },
    {
      "cell_type": "code",
      "source": [
        "x1=np.array([0,1,2,3,4,5,6,7,8])\n",
        "y=np.array([2,4,2,1,6,7,8,5,2])\n",
        "x0=np.ones(x1.shape[0])\n",
        "x=np.concatenate([x0.reshape(-1,1),x1.reshape(-1,1)],axis=1)\n",
        "theta=np.random.randn(2)\n",
        "y1=np.dot(x,theta)\n",
        "alpha=0.01\n",
        "error=(y1-y)\n",
        "theta=theta-alpha*np.dot(error,x)/len(x)\n",
        "print (theta)"
      ],
      "metadata": {
        "colab": {
          "base_uri": "https://localhost:8080/"
        },
        "id": "wVJJ-1MClQKW",
        "outputId": "ceb78167-2825-4d32-ee31-854b06d3c574"
      },
      "execution_count": 9,
      "outputs": [
        {
          "output_type": "stream",
          "name": "stdout",
          "text": [
            "[-0.09464258  0.2423411 ]\n"
          ]
        }
      ]
    },
    {
      "cell_type": "code",
      "source": [
        "x.shape"
      ],
      "metadata": {
        "colab": {
          "base_uri": "https://localhost:8080/"
        },
        "id": "9tnkcgyXlQTW",
        "outputId": "9d9e8068-0fa4-49f2-fdf0-ce992539e75b"
      },
      "execution_count": 10,
      "outputs": [
        {
          "output_type": "execute_result",
          "data": {
            "text/plain": [
              "(9, 2)"
            ]
          },
          "metadata": {},
          "execution_count": 10
        }
      ]
    },
    {
      "cell_type": "code",
      "source": [
        "y1.shape"
      ],
      "metadata": {
        "colab": {
          "base_uri": "https://localhost:8080/"
        },
        "id": "f2pfraF0lQb7",
        "outputId": "d9a5cfc2-f0c5-44f1-9a81-4ad5b7296ff0"
      },
      "execution_count": 11,
      "outputs": [
        {
          "output_type": "execute_result",
          "data": {
            "text/plain": [
              "(9,)"
            ]
          },
          "metadata": {},
          "execution_count": 11
        }
      ]
    },
    {
      "cell_type": "code",
      "source": [
        "y1.reshape(-1,1)"
      ],
      "metadata": {
        "colab": {
          "base_uri": "https://localhost:8080/"
        },
        "id": "cutLtNSrlQkh",
        "outputId": "b06686bb-cb71-4ec1-e81f-d202c73b8a03"
      },
      "execution_count": 12,
      "outputs": [
        {
          "output_type": "execute_result",
          "data": {
            "text/plain": [
              "array([[-0.13455539],\n",
              "       [-0.07095913],\n",
              "       [-0.00736286],\n",
              "       [ 0.0562334 ],\n",
              "       [ 0.11982967],\n",
              "       [ 0.18342593],\n",
              "       [ 0.2470222 ],\n",
              "       [ 0.31061846],\n",
              "       [ 0.37421473]])"
            ]
          },
          "metadata": {},
          "execution_count": 12
        }
      ]
    },
    {
      "cell_type": "code",
      "source": [
        "theta"
      ],
      "metadata": {
        "colab": {
          "base_uri": "https://localhost:8080/"
        },
        "id": "gXferunTlQtT",
        "outputId": "91c5dd18-e8b3-4c30-81a3-45aac260dab3"
      },
      "execution_count": 13,
      "outputs": [
        {
          "output_type": "execute_result",
          "data": {
            "text/plain": [
              "array([-0.09464258,  0.2423411 ])"
            ]
          },
          "metadata": {},
          "execution_count": 13
        }
      ]
    },
    {
      "cell_type": "code",
      "source": [
        "x=np.random.randn(30,1)\n",
        "y=np.random.randn(30,)\n",
        "x_test=np.random.randn(5,1)"
      ],
      "metadata": {
        "id": "-SiaWX6-lQ2P"
      },
      "execution_count": 14,
      "outputs": []
    },
    {
      "cell_type": "code",
      "source": [
        "x.max()"
      ],
      "metadata": {
        "colab": {
          "base_uri": "https://localhost:8080/"
        },
        "id": "bwH6c-T9lQ-w",
        "outputId": "7eef2edb-adba-421d-87af-8b4da613d818"
      },
      "execution_count": 15,
      "outputs": [
        {
          "output_type": "execute_result",
          "data": {
            "text/plain": [
              "2.030581943294457"
            ]
          },
          "metadata": {},
          "execution_count": 15
        }
      ]
    },
    {
      "cell_type": "code",
      "source": [
        "print('x.shape',x.shape)\n",
        "print('y.shape',y.shape)"
      ],
      "metadata": {
        "colab": {
          "base_uri": "https://localhost:8080/"
        },
        "id": "OChfDXOblRH4",
        "outputId": "1ea30972-42e4-4cdd-b40a-a1e708821dda"
      },
      "execution_count": 16,
      "outputs": [
        {
          "output_type": "stream",
          "name": "stdout",
          "text": [
            "x.shape (30, 1)\n",
            "y.shape (30,)\n"
          ]
        }
      ]
    },
    {
      "cell_type": "code",
      "source": [
        "import numpy as np\n",
        "import matplotlib.pyplot as plt\n",
        "import pandas as pd"
      ],
      "metadata": {
        "id": "r7rgfeRilRRJ"
      },
      "execution_count": 17,
      "outputs": []
    },
    {
      "cell_type": "code",
      "source": [
        "class ScratchLinearRegression():\n",
        "   \n",
        "    def __init__(self, num_iter=10000, lr=0.01, no_bias=False, verbose=False):\n",
        "        self.iter = num_iter\n",
        "        self.lr = lr\n",
        "        self.no_bias = no_bias\n",
        "        self.verbose = verbose\n",
        "        self.loss = np.zeros(self.iter)\n",
        "        self.val_loss = np.zeros(self.iter)\n",
        "       \n",
        "        if self.verbose:\n",
        "            print()\n",
        "   \n",
        "    def _linear_hypothesis(self, x):\n",
        "        x1=x\n",
        "        if self.no_bias==True:\n",
        "            x0=np.zeros(x1.shape[0])\n",
        "        else:\n",
        "            x0=np.ones(x1.shape[0]) \n",
        "        return np.concatenate([x0.reshape(-1,1),x1],axis=1) \n",
        "    def _gradient_descent(self, x, error):\n",
        "        self.theta=self.theta-self.lr*np.dot(error,x)/len(x)\n",
        "\n",
        "    def fit(self, x, y, x_val=False, y_val=False):\n",
        "        x1=self._linear_hypothesis(x)\n",
        "        self.theta=np.random.random(x1.shape[1])\n",
        "        for i in range(self.iter):\n",
        "            y1=np.dot(x1,self .theta)\n",
        "            error=y1-y\n",
        "            self.loss[i]+=np.mean(error**2)/2\n",
        "            if (type(x_val)!=bool):\n",
        "                x2=self._linear_hypothesis(x_val)\n",
        "                y2=np.dot(x2,self.theta)\n",
        "                error_val=y2-y_val\n",
        "                self.loss[i]+=np.mean(error_val**2)/2\n",
        "            self._gradient_descent(x1,error)\n",
        "            if self.verbose:\n",
        "               print ('n_iter:',i,'loss:',self.loss[i],'theta:',self.theta) \n",
        "    def predict(self, x):\n",
        "        return np.dot(self._linear_hypothesis(x),self.theta)"
      ],
      "metadata": {
        "id": "6IZ06Ub2lRau"
      },
      "execution_count": 18,
      "outputs": []
    },
    {
      "cell_type": "code",
      "source": [
        "reg = ScratchLinearRegression(num_iter=10000,lr=0.0001,verbose=False)\n",
        "reg.fit(x,y)\n",
        "y_pred=reg.predict(x_test)\n",
        "\n",
        "x=np.random.randn(30,1)\n",
        "y=np.random.randn(30,)\n",
        "x_test=np.random.randn(5,1)\n",
        "x.max()\n",
        "print('x.shape',x.shape)\n",
        "print('y.shape',y.shape)\n",
        "reg=ScratchLinearRegression(num_iter=10000,lr=0.0001,verbose=False)\n",
        "reg.fit(x,y)\n",
        "y_pred=reg.predict(x_test)\n",
        "plt.scatter(x,y)\n",
        "plt.scatter(x_test,y_pred)\n",
        "plt.plot();"
      ],
      "metadata": {
        "colab": {
          "base_uri": "https://localhost:8080/",
          "height": 302
        },
        "id": "JIaPQeORlRk_",
        "outputId": "e0f5c115-07ee-405e-edb1-cb67982f17fd"
      },
      "execution_count": 19,
      "outputs": [
        {
          "output_type": "stream",
          "name": "stdout",
          "text": [
            "x.shape (30, 1)\n",
            "y.shape (30,)\n"
          ]
        },
        {
          "output_type": "display_data",
          "data": {
            "text/plain": [
              "<Figure size 432x288 with 1 Axes>"
            ],
            "image/png": "[encoded data removed]"
          },
          "metadata": {
            "needs_background": "light"
          }
        }
      ]
    },
    {
      "cell_type": "code",
      "source": [
        "def MSE(y_pred, y):\n",
        "    mse=np.mean((y_pred-y)**2)\n",
        "    pass\n",
        "    return mse"
      ],
      "metadata": {
        "id": "0d3pvEq1lRx9"
      },
      "execution_count": 20,
      "outputs": []
    },
    {
      "cell_type": "code",
      "source": [
        "y_test=np.array([2,4,2,1,6])\n",
        "y_pred=np.array([1,4,3,5,2])\n",
        "mse=MSE(y_pred,y_test)\n",
        "mse"
      ],
      "metadata": {
        "colab": {
          "base_uri": "https://localhost:8080/"
        },
        "id": "W6mdMnFqlR7D",
        "outputId": "64b86766-8642-4a5c-acfe-1d29537cc444"
      },
      "execution_count": 21,
      "outputs": [
        {
          "output_type": "execute_result",
          "data": {
            "text/plain": [
              "6.8"
            ]
          },
          "metadata": {},
          "execution_count": 21
        }
      ]
    },
    {
      "cell_type": "code",
      "source": [
        "from sklearn.metrics import  mean_squared_error\n",
        "y_test=np.array([2,4,2,1,6])\n",
        "y_pred=np.array([1,4,3,5,2])\n",
        "mean_squared_error(y_pred,y_test)"
      ],
      "metadata": {
        "colab": {
          "base_uri": "https://localhost:8080/"
        },
        "id": "Qy-0xWdLlSES",
        "outputId": "9e0e5973-4131-486c-b4e5-0b4741094515"
      },
      "execution_count": 22,
      "outputs": [
        {
          "output_type": "execute_result",
          "data": {
            "text/plain": [
              "6.8"
            ]
          },
          "metadata": {},
          "execution_count": 22
        }
      ]
    },
    {
      "cell_type": "code",
      "source": [
        "print (reg.loss.shape)\n",
        "reg.loss.reshape(-1,1)"
      ],
      "metadata": {
        "colab": {
          "base_uri": "https://localhost:8080/"
        },
        "id": "3t7x6nQwlSNT",
        "outputId": "6f511bdb-7f9c-4cdb-ae27-c0443b38a28b"
      },
      "execution_count": 23,
      "outputs": [
        {
          "output_type": "stream",
          "name": "stdout",
          "text": [
            "(10000,)\n"
          ]
        },
        {
          "output_type": "execute_result",
          "data": {
            "text/plain": [
              "array([[0.916922  ],\n",
              "       [0.91683958],\n",
              "       [0.91675717],\n",
              "       ...,\n",
              "       [0.53511711],\n",
              "       [0.535103  ],\n",
              "       [0.53508889]])"
            ]
          },
          "metadata": {},
          "execution_count": 23
        }
      ]
    },
    {
      "cell_type": "code",
      "source": [
        "print(reg.val_loss.shape)\n",
        "reg.val_loss.reshape(-1,1)"
      ],
      "metadata": {
        "colab": {
          "base_uri": "https://localhost:8080/"
        },
        "id": "EJg78n1flSW6",
        "outputId": "01104ca0-ffbc-4c73-976e-570c48734b4a"
      },
      "execution_count": 67,
      "outputs": [
        {
          "output_type": "stream",
          "name": "stdout",
          "text": [
            "(10000,)\n"
          ]
        },
        {
          "output_type": "execute_result",
          "data": {
            "text/plain": [
              "array([[0.],\n",
              "       [0.],\n",
              "       [0.],\n",
              "       ...,\n",
              "       [0.],\n",
              "       [0.],\n",
              "       [0.]])"
            ]
          },
          "metadata": {},
          "execution_count": 67
        }
      ]
    },
    {
      "cell_type": "code",
      "source": [
        "from google.colab import drive\n",
        "\"drive.mount(‘/content/gdrive’)\""
      ],
      "metadata": {
        "colab": {
          "base_uri": "https://localhost:8080/",
          "height": 35
        },
        "id": "TVSd55z5pwXq",
        "outputId": "de776c6a-994e-4a25-a539-6017319c298c"
      },
      "execution_count": 71,
      "outputs": [
        {
          "output_type": "execute_result",
          "data": {
            "text/plain": [
              "'drive.mount(‘/content/gdrive’)'"
            ],
            "application/vnd.google.colaboratory.intrinsic+json": {
              "type": "string"
            }
          },
          "metadata": {},
          "execution_count": 71
        }
      ]
    },
    {
      "cell_type": "code",
      "source": [
        "csv_path = \"drive/MyDrive/train.csv\"\n",
        "\n",
        "train=pd.read_csv('train.csv')\n",
        "print('shape:',train.shape)\n",
        "train.head()"
      ],
      "metadata": {
        "id": "TVz5i-03p8uH"
      },
      "execution_count": null,
      "outputs": []
    },
    {
      "cell_type": "code",
      "source": [
        "train=pd.read_csv('train.csv')\n",
        "print('shape:',train.shape)\n",
        "train.head()"
      ],
      "metadata": {
        "id": "6awQekoglSfy"
      },
      "execution_count": null,
      "outputs": []
    },
    {
      "cell_type": "code",
      "source": [
        "x=train[['YearBuilt']].values\n",
        "y=train[['SalePrice']].values\n",
        "y=y.reshape(-1)\n",
        "print('x.shape',x.shape)\n",
        "print('y.shape',y.shape)"
      ],
      "metadata": {
        "id": "_T8PKpdmlSo6"
      },
      "execution_count": null,
      "outputs": []
    },
    {
      "cell_type": "code",
      "source": [
        "from sklearn.model_selection import train_test_split\n",
        "x_train,x_valid,y_train,y_valid=\\\n",
        "train_test_split(x,y,train_size=0.8,random_state=0)\n",
        "print('x_train.shape:',x_train.shape)\n",
        "print('y_train.shape:',y_train.shape)\n",
        "print('x_valid.shape:',x_valid.shape)\n",
        "print('y_valid.shape:',y_valid.shape)"
      ],
      "metadata": {
        "colab": {
          "base_uri": "https://localhost:8080/"
        },
        "id": "LwhkCBixlSyD",
        "outputId": "f614c9d6-eebc-40d6-b925-aefd0d05623b"
      },
      "execution_count": 29,
      "outputs": [
        {
          "output_type": "stream",
          "name": "stdout",
          "text": [
            "x_train.shape: (24, 1)\n",
            "y_train.shape: (24,)\n",
            "x_valid.shape: (6, 1)\n",
            "y_valid.shape: (6,)\n"
          ]
        }
      ]
    },
    {
      "cell_type": "code",
      "source": [
        "from sklearn.preprocessing import StandardScaler\n",
        "scaler=StandardScaler()\n",
        "scaler.fit(x_train)\n",
        "x_train_std=scaler.transform(x_train)\n",
        "x_valid_std=scaler.transform(x_valid)"
      ],
      "metadata": {
        "id": "EVpWV5iQlS7e"
      },
      "execution_count": 30,
      "outputs": []
    },
    {
      "cell_type": "code",
      "source": [
        "reg1=ScratchLinearRegression(num_iter=10000,lr=0.01)\n",
        "reg1.fit(x_train_std,y_train,x_valid_std,y_valid)\n",
        "y_pred1=reg1.predict(x_valid_std)"
      ],
      "metadata": {
        "id": "fJvoIw4qlTEv"
      },
      "execution_count": 31,
      "outputs": []
    },
    {
      "cell_type": "code",
      "source": [
        "fig,ax=plt.subplots(figsize=(16,9))\n",
        "plt.rcParams[\"font.size\"]=20\n",
        "plt.scatter(x_train_std,y_train,label=\"TRAIN\")\n",
        "plt.scatter(x_valid_std, y_valid,label=\"VALID\")\n",
        "plt.scatter(x_valid_std,y_pred1,label=\"PREDICT\")\n",
        "plt.legend()\n",
        "plt.show();"
      ],
      "metadata": {
        "colab": {
          "base_uri": "https://localhost:8080/",
          "height": 549
        },
        "id": "-UPSpxfEnXOp",
        "outputId": "af8295be-1cf3-40fe-8f7d-1d8dfab8f055"
      },
      "execution_count": 32,
      "outputs": [
        {
          "output_type": "display_data",
          "data": {
            "text/plain": [
              "<Figure size 1152x648 with 1 Axes>"
            ],
            "image/png": "[encoded data removed]"
          },
          "metadata": {
            "needs_background": "light"
          }
        }
      ]
    },
    {
      "cell_type": "code",
      "source": [
        "mse=MSE(y_pred1,y_valid)\n",
        "print('MSE{:.1f}'.format(mse))\n",
        "print('RMSE{:.1F}'.format(np.sqrt(mse)))"
      ],
      "metadata": {
        "colab": {
          "base_uri": "https://localhost:8080/"
        },
        "id": "b6nEM7JMnXfm",
        "outputId": "1ca05707-8d80-47b0-f7be-753044d0cfd3"
      },
      "execution_count": 33,
      "outputs": [
        {
          "output_type": "stream",
          "name": "stdout",
          "text": [
            "MSE1.2\n",
            "RMSE1.1\n"
          ]
        }
      ]
    },
    {
      "cell_type": "code",
      "source": [
        "from sklearn.linear_model import LinearRegression\n",
        "reg2=LinearRegression()\n",
        "reg2.fit(x_train_std,y_train)\n",
        "y_pred_sklearn=reg2.predict(x_valid_std)"
      ],
      "metadata": {
        "id": "OzzUG9AvnXq-"
      },
      "execution_count": 34,
      "outputs": []
    },
    {
      "cell_type": "code",
      "source": [
        "fig,ax=plt.subplots(figsize=(16,9))\n",
        "plt.rcParams[\"font.size\"]=20\n",
        "plt.scatter(x_train_std,y_train,label=\"TRAIN\")\n",
        "plt.scatter(x_valid_std, y_valid,label=\"VALID\")\n",
        "plt.scatter(x_valid_std,y_pred_sklearn,label=\"PREDICT\")\n",
        "plt.legend()\n",
        "plt.show();"
      ],
      "metadata": {
        "colab": {
          "base_uri": "https://localhost:8080/",
          "height": 549
        },
        "id": "98nmHKzfnX1y",
        "outputId": "1ab8a107-73af-4071-9279-c8c09f5fc03e"
      },
      "execution_count": 35,
      "outputs": [
        {
          "output_type": "display_data",
          "data": {
            "text/plain": [
              "<Figure size 1152x648 with 1 Axes>"
            ],
            "image/png": "[encoded data removed]"
          },
          "metadata": {
            "needs_background": "light"
          }
        }
      ]
    },
    {
      "cell_type": "code",
      "source": [
        "mse=MSE(y_pred_sklearn,y_valid)\n",
        "print('MSE{:.1f}'.format(mse))\n",
        "print('RMSE{:.1F}'.format(np.sqrt(mse)))"
      ],
      "metadata": {
        "colab": {
          "base_uri": "https://localhost:8080/"
        },
        "id": "Y5zq-97CnYAd",
        "outputId": "ae96f8c4-590e-4c53-a493-059327ffd5dc"
      },
      "execution_count": 36,
      "outputs": [
        {
          "output_type": "stream",
          "name": "stdout",
          "text": [
            "MSE1.2\n",
            "RMSE1.1\n"
          ]
        }
      ]
    },
    {
      "cell_type": "code",
      "source": [
        "fig,ax=plt.subplots(figsize=(16,9))\n",
        "plt.rcParams[\"font.size\"]=20\n",
        "plt.scatter(range(len(reg1.loss)),reg1.loss,label='TRAIN')\n",
        "plt.scatter(range(len(reg1.val_loss)),reg1.val_loss,label='VALID')\n",
        "plt.legend()\n",
        "plt.show();"
      ],
      "metadata": {
        "colab": {
          "base_uri": "https://localhost:8080/",
          "height": 548
        },
        "id": "S5zVuJB9nYKt",
        "outputId": "6651fe48-eaea-4755-918a-f373e3c6f880"
      },
      "execution_count": 37,
      "outputs": [
        {
          "output_type": "display_data",
          "data": {
            "text/plain": [
              "<Figure size 1152x648 with 1 Axes>"
            ],
            "image/png": "[encoded data removed]"
          },
          "metadata": {
            "needs_background": "light"
          }
        }
      ]
    },
    {
      "cell_type": "code",
      "source": [
        "reg3=ScratchLinearRegression(num_iter=5000,lr=0.01)\n",
        "reg3.fit(x_train_std,y_train,x_valid_std,y_valid)\n",
        "y_pred3=reg3.predict(x_valid_std)"
      ],
      "metadata": {
        "id": "PTzYLkRfnYU9"
      },
      "execution_count": 38,
      "outputs": []
    },
    {
      "cell_type": "code",
      "source": [
        "fig,ax=plt.subplots(figsize=(16,9))\n",
        "plt.rcParams[\"font.size\"]=20\n",
        "plt.scatter(x_train_std,y_train,label=\"TRAIN\")\n",
        "plt.scatter(x_valid_std, y_valid,label=\"VALID\")\n",
        "plt.scatter(x_valid_std,y_pred3,label=\"PREDICT\")\n",
        "plt.legend()\n",
        "plt.show();"
      ],
      "metadata": {
        "colab": {
          "base_uri": "https://localhost:8080/",
          "height": 549
        },
        "id": "am7yM_5VnYe_",
        "outputId": "5feb2b48-c352-4c57-bef7-aa452acb02f7"
      },
      "execution_count": 39,
      "outputs": [
        {
          "output_type": "display_data",
          "data": {
            "text/plain": [
              "<Figure size 1152x648 with 1 Axes>"
            ],
            "image/png": "[encoded data removed]"
          },
          "metadata": {
            "needs_background": "light"
          }
        }
      ]
    },
    {
      "cell_type": "code",
      "source": [
        "mse=MSE(y_pred3,y_valid)\n",
        "print('MSE{:.1f}'.format(mse))\n",
        "print('RMSE{:.1F}'.format(np.sqrt(mse)))"
      ],
      "metadata": {
        "colab": {
          "base_uri": "https://localhost:8080/"
        },
        "id": "S-jRAV4HnYoV",
        "outputId": "261b8936-75be-4028-bd2e-4097a223d938"
      },
      "execution_count": 40,
      "outputs": [
        {
          "output_type": "stream",
          "name": "stdout",
          "text": [
            "MSE1.2\n",
            "RMSE1.1\n"
          ]
        }
      ]
    },
    {
      "cell_type": "code",
      "source": [
        "fig,ax=plt.subplots(figsize=(16,9))\n",
        "plt.rcParams[\"font.size\"]=20\n",
        "plt.scatter(range(len(reg3.loss)),reg3.loss,label='TRAIN')\n",
        "plt.scatter(range(len(reg3.val_loss)),reg3.val_loss,label='VALID')\n",
        "plt.legend()\n",
        "plt.show();"
      ],
      "metadata": {
        "colab": {
          "base_uri": "https://localhost:8080/",
          "height": 546
        },
        "id": "913eyaf0nYxj",
        "outputId": "5009a433-3d60-45ac-a448-269cca4b03f6"
      },
      "execution_count": 41,
      "outputs": [
        {
          "output_type": "display_data",
          "data": {
            "text/plain": [
              "<Figure size 1152x648 with 1 Axes>"
            ],
            "image/png": "[encoded data removed]"
          },
          "metadata": {
            "needs_background": "light"
          }
        }
      ]
    },
    {
      "cell_type": "code",
      "source": [
        "reg4=ScratchLinearRegression(num_iter=5000,lr=0.01,no_bias=True)\n",
        "reg4.fit(x_train_std,y_train,x_valid_std,y_valid)\n",
        "y_pred4=reg4.predict(x_valid_std)\n",
        "\n",
        "fig,ax=plt.subplots(figsize=(16,9))\n",
        "plt.rcParams[\"font.size\"]=20\n",
        "plt.scatter(x_train_std,y_train,label=\"TRAIN\")\n",
        "plt.scatter(x_valid_std, y_valid,label=\"VALID\")\n",
        "plt.scatter(x_valid_std,y_pred4,label=\"PREDICT\")\n",
        "plt.legend()\n",
        "plt.show();"
      ],
      "metadata": {
        "colab": {
          "base_uri": "https://localhost:8080/",
          "height": 549
        },
        "id": "xORfjZT2nY67",
        "outputId": "04cfb3d2-77c7-49ed-d26b-874bdb9dfafd"
      },
      "execution_count": 42,
      "outputs": [
        {
          "output_type": "display_data",
          "data": {
            "text/plain": [
              "<Figure size 1152x648 with 1 Axes>"
            ],
            "image/png": "[encoded data removed]"
          },
          "metadata": {
            "needs_background": "light"
          }
        }
      ]
    },
    {
      "cell_type": "code",
      "source": [
        "fig,ax=plt.subplots(figsize=(16,9))\n",
        "plt.rcParams[\"font.size\"]=20\n",
        "plt.scatter(range(len(reg4.loss)),reg4.loss,label='TRAIN')\n",
        "plt.scatter(range(len(reg4.val_loss)),reg4.val_loss,label='VALID')\n",
        "plt.legend()\n",
        "plt.show();"
      ],
      "metadata": {
        "colab": {
          "base_uri": "https://localhost:8080/",
          "height": 546
        },
        "id": "MRm-CeIaoNKo",
        "outputId": "3cad6f7d-cc8c-4d1a-cd67-9d9927eaef29"
      },
      "execution_count": 43,
      "outputs": [
        {
          "output_type": "display_data",
          "data": {
            "text/plain": [
              "<Figure size 1152x648 with 1 Axes>"
            ],
            "image/png": "[encoded data removed]"
          },
          "metadata": {
            "needs_background": "light"
          }
        }
      ]
    },
    {
      "cell_type": "code",
      "source": [
        "x=train[['YearBuilt','YearBuilt']].values\n",
        "y=train[['SalePrice']].values\n",
        "y=y.reshape(-1)\n",
        "print('x.shape',x.shape)\n",
        "print('y.shape',y.shape)"
      ],
      "metadata": {
        "id": "kt-QwjkwoNUG"
      },
      "execution_count": null,
      "outputs": []
    },
    {
      "cell_type": "code",
      "source": [
        "x[:,1]=x[:,1]**2\n",
        "x"
      ],
      "metadata": {
        "id": "mQMnw2tLoNcI"
      },
      "execution_count": null,
      "outputs": []
    },
    {
      "cell_type": "code",
      "source": [
        "from sklearn.model_selection import train_test_split\n",
        "x_train,x_valid,y_train,y_valid=\\\n",
        "train_test_split(x,y,train_size=0.8,random_state=0)\n",
        "print('x_train.shape:',x_train.shape)\n",
        "print('y_train.shape:',y_train.shape)\n",
        "print('x_valid.shape:',x_valid.shape)\n",
        "print('y_valid.shape:',y_valid.shape)"
      ],
      "metadata": {
        "colab": {
          "base_uri": "https://localhost:8080/"
        },
        "id": "bH7W3fRioNjq",
        "outputId": "56e104de-4416-482d-a009-781d397e66d5"
      },
      "execution_count": 45,
      "outputs": [
        {
          "output_type": "stream",
          "name": "stdout",
          "text": [
            "x_train.shape: (24, 1)\n",
            "y_train.shape: (24,)\n",
            "x_valid.shape: (6, 1)\n",
            "y_valid.shape: (6,)\n"
          ]
        }
      ]
    },
    {
      "cell_type": "code",
      "source": [
        "from sklearn.preprocessing import StandardScaler\n",
        "scaler=StandardScaler()\n",
        "scaler.fit(x_train)\n",
        "x_train_std=scaler.transform(x_train)\n",
        "x_valid_std=scaler.transform(x_valid)\n",
        "\n",
        "reg09=ScratchLinearRegression(num_iter=5000,lr=0.01)\n",
        "reg09.fit(x_train_std,y_train,x_valid_std,y_valid)\n",
        "y_pred09=reg09.predict(x_valid_std)\n",
        "\n",
        "fig,ax=plt.subplots(figsize=(16,9))\n",
        "plt.rcParams[\"font.size\"]=20\n",
        "plt.scatter(x_train_std[:,1],y_train,label=\"TRAIN\")\n",
        "plt.scatter(x_valid_std[:,1], y_valid,label=\"VALID\")\n",
        "plt.scatter(x_valid_std[:,1],y_pred09,label=\"PREDICT\")\n",
        "plt.legend()\n",
        "plt.show();"
      ],
      "metadata": {
        "id": "79HUb06FoNq-"
      },
      "execution_count": null,
      "outputs": []
    },
    {
      "cell_type": "code",
      "source": [
        "mse=MSE(y_pred09,y_valid)\n",
        "print('MSE{:.1f}'.format(mse))\n",
        "print('RMSE{:.1F}'.format(np.sqrt(mse)))"
      ],
      "metadata": {
        "colab": {
          "base_uri": "https://localhost:8080/"
        },
        "id": "tHjVAxkooNyZ",
        "outputId": "cf21f467-1ff6-4bd3-8eac-abf9535e3dcf"
      },
      "execution_count": 47,
      "outputs": [
        {
          "output_type": "stream",
          "name": "stdout",
          "text": [
            "MSE1.2\n",
            "RMSE1.1\n"
          ]
        }
      ]
    },
    {
      "cell_type": "code",
      "source": [
        "fig,ax=plt.subplots(figsize=(16,9))\n",
        "plt.rcParams[\"font.size\"]=20\n",
        "plt.scatter(range(len(reg09.loss)),reg09.loss,label='TRAIN')\n",
        "plt.scatter(range(len(reg09.val_loss)),reg09.val_loss,label='VALID')\n",
        "plt.legend()\n",
        "plt.show();"
      ],
      "metadata": {
        "colab": {
          "base_uri": "https://localhost:8080/",
          "height": 546
        },
        "id": "RGl5v16PoN6G",
        "outputId": "84081c0f-5216-443c-9d92-7f912e96303d"
      },
      "execution_count": 48,
      "outputs": [
        {
          "output_type": "display_data",
          "data": {
            "text/plain": [
              "<Figure size 1152x648 with 1 Axes>"
            ],
            "image/png": "[encoded data removed]"
          },
          "metadata": {
            "needs_background": "light"
          }
        }
      ]
    },
    {
      "cell_type": "code",
      "source": [
        "x=train[['YearBuilt','YearBuilt','YearBuilt']].values\n",
        "y=train[['SalePrice']].values\n",
        "y=y.reshape(-1)\n",
        "print('x.shape',x.shape)\n",
        "print('y.shape',y.shape)\n",
        "\n",
        "x[:,1]=x[:,1]**2\n",
        "x[:,2]=x[:,2]**3\n",
        "x"
      ],
      "metadata": {
        "id": "8jJZedZrooFO"
      },
      "execution_count": null,
      "outputs": []
    },
    {
      "cell_type": "code",
      "source": [
        "from sklearn.model_selection import train_test_split\n",
        "x_train,x_valid,y_train,y_valid=\\\n",
        "train_test_split(x,y,train_size=0.8,random_state=0)\n",
        "print('x_train.shape:',x_train.shape)\n",
        "print('y_train.shape:',y_train.shape)\n",
        "print('x_valid.shape:',x_valid.shape)\n",
        "print('y_valid.shape:',y_valid.shape)\n",
        "\n",
        "from sklearn.preprocessing import StandardScaler\n",
        "scaler=StandardScaler()\n",
        "scaler.fit(x_train)\n",
        "x_train_std=scaler.transform(x_train)\n",
        "x_valid_std=scaler.transform(x_valid)\n",
        "\n",
        "reg10=ScratchLinearRegression(num_iter=5000,lr=0.01)\n",
        "reg10.fit(x_train_std,y_train,x_valid_std,y_valid)\n",
        "y_pred10=reg10.predict(x_valid_std)\n",
        "\n",
        "fig,ax=plt.subplots(figsize=(16,9))\n",
        "plt.rcParams[\"font.size\"]=20\n",
        "plt.scatter(x_train_std[:,1],y_train,label=\"TRAIN\")\n",
        "plt.scatter(x_valid_std[:,1], y_valid,label=\"VALID\")\n",
        "plt.scatter(x_valid_std[:,1],y_pred10,label=\"PREDICT\")\n",
        "plt.legend()\n",
        "plt.show();"
      ],
      "metadata": {
        "id": "hJU4vf7RooXg"
      },
      "execution_count": null,
      "outputs": []
    },
    {
      "cell_type": "code",
      "source": [
        "mse=MSE(y_pred10,y_valid)\n",
        "print('MSE{:.1f}'.format(mse))\n",
        "print('RMSE{:.1F}'.format(np.sqrt(mse)))"
      ],
      "metadata": {
        "id": "tJEOC7HCoojK"
      },
      "execution_count": null,
      "outputs": []
    },
    {
      "cell_type": "code",
      "source": [
        "fig,ax=plt.subplots(figsize=(16,9))\n",
        "plt.rcParams[\"font.size\"]=20\n",
        "plt.scatter(range(len(reg10.loss)),reg10.loss,label='TRAIN')\n",
        "plt.scatter(range(len(reg10.val_loss)),reg10.val_loss,label='VALID')\n",
        "plt.legend()\n",
        "plt.show();"
      ],
      "metadata": {
        "id": "Z5Cm8HcMoouh"
      },
      "execution_count": null,
      "outputs": []
    },
    {
      "cell_type": "code",
      "source": [
        "x=train[['GrLivArea','YearBuilt']].values\n",
        "y=train[['SalePrice']].values\n",
        "y=y.reshape(-1)\n",
        "print('x.shape',x.shape)\n",
        "print('y.shape',y.shape)"
      ],
      "metadata": {
        "id": "lsi0iRhNoo50"
      },
      "execution_count": null,
      "outputs": []
    },
    {
      "cell_type": "code",
      "source": [
        "from sklearn.model_selection import train_test_split\n",
        "x_train,x_valid,y_train,y_valid=\\\n",
        "train_test_split(x,y,train_size=0.8,random_state=0)\n",
        "print('x_train.shape:',x_train.shape)\n",
        "print('y_train.shape:',y_train.shape)\n",
        "print('x_valid.shape:',x_valid.shape)\n",
        "print('y_valid.shape:',y_valid.shape)"
      ],
      "metadata": {
        "id": "SrEGCvmhopIK"
      },
      "execution_count": null,
      "outputs": []
    },
    {
      "cell_type": "code",
      "source": [
        "from sklearn.preprocessing import StandardScaler\n",
        "scaler=StandardScaler()\n",
        "scaler.fit(x_train)\n",
        "x_train_std=scaler.transform(x_train)\n",
        "x_valid_std=scaler.transform(x_valid)\n",
        "\n",
        "reg5=ScratchLinearRegression(num_iter=5000,lr=0.01)\n",
        "reg5.fit(x_train_std,y_train,x_valid_std,y_valid)\n",
        "y_pred5=reg5.predict(x_valid_std)\n",
        "\n",
        "fig,ax=plt.subplots(figsize=(16,9))\n",
        "plt.rcParams[\"font.size\"]=20\n",
        "plt.scatter(x_train_std[:,1],y_train,label=\"TRAIN\")\n",
        "plt.scatter(x_valid_std[:,1], y_valid,label=\"VALID\")\n",
        "plt.scatter(x_valid_std[:,1],y_pred5,label=\"PREDICT\")\n",
        "plt.legend()\n",
        "plt.show();"
      ],
      "metadata": {
        "id": "RcKW1rl6opTg"
      },
      "execution_count": null,
      "outputs": []
    },
    {
      "cell_type": "code",
      "source": [
        "fig,ax=plt.subplots(figsize=(16,9))\n",
        "plt.rcParams[\"font.size\"]=20\n",
        "plt.scatter(range(len(reg5.loss)),reg5.loss,label='TRAIN')\n",
        "plt.scatter(range(len(reg5.val_loss)),reg5.val_loss,label='VALID')\n",
        "plt.legend()\n",
        "plt.show();"
      ],
      "metadata": {
        "id": "qSNq-pioopd4"
      },
      "execution_count": null,
      "outputs": []
    },
    {
      "cell_type": "code",
      "source": [
        "mse=MSE(y_pred5,y_valid)\n",
        "print('MSE{:.1f}'.format(mse))\n",
        "print('RMSE{:.1F}'.format(np.sqrt(mse)))"
      ],
      "metadata": {
        "id": "UnLwoQF_pAyz"
      },
      "execution_count": null,
      "outputs": []
    },
    {
      "cell_type": "code",
      "source": [
        "reg6=ScratchLinearRegression(num_iter=5000,lr=0.01)\n",
        "reg6.fit(x_train_std,y_train,x_valid_std,y_valid)\n",
        "y_pred6=reg6.predict(x_valid_std)\n",
        "\n",
        "fig,ax=plt.subplots(figsize=(16,9))\n",
        "plt.rcParams[\"font.size\"]=20\n",
        "plt.scatter(x_train_std[:,1],y_train,label=\"TRAIN\")\n",
        "plt.scatter(x_valid_std[:,1], y_valid,label=\"VALID\")\n",
        "plt.scatter(x_valid_std[:,1],y_pred6,label=\"PREDICT\")\n",
        "plt.legend()\n",
        "plt.show();"
      ],
      "metadata": {
        "id": "ArhCUGW1pA9c"
      },
      "execution_count": null,
      "outputs": []
    },
    {
      "cell_type": "code",
      "source": [
        "mse=MSE(y_pred6,y_valid)\n",
        "print('MSE{:.1f}'.format(mse))\n",
        "print('RMSE{:.1F}'.format(np.sqrt(mse)))"
      ],
      "metadata": {
        "id": "XfdQYfv2pBH6"
      },
      "execution_count": null,
      "outputs": []
    },
    {
      "cell_type": "code",
      "source": [
        "reg6.theta"
      ],
      "metadata": {
        "id": "kZ6Zob6PpJjc"
      },
      "execution_count": null,
      "outputs": []
    },
    {
      "cell_type": "code",
      "source": [
        "fig,ax=plt.subplots(figsize=(16,9))\n",
        "plt.rcParams[\"font.size\"]=20\n",
        "plt.scatter(range(len(reg6.loss)),reg6.loss,label='TRAIN')\n",
        "plt.scatter(range(len(reg6.val_loss)),reg6.val_loss,label='VALID')\n",
        "plt.legend()\n",
        "plt.show();"
      ],
      "metadata": {
        "id": "_ZiXHRH9pJwE"
      },
      "execution_count": null,
      "outputs": []
    },
    {
      "cell_type": "code",
      "source": [
        "x=np.arange(-100,100,1)\n",
        "J=1/2*(x-1)**2"
      ],
      "metadata": {
        "id": "IvRG-CTipJ6d"
      },
      "execution_count": null,
      "outputs": []
    },
    {
      "cell_type": "code",
      "source": [
        "plt.plot(x,J);"
      ],
      "metadata": {
        "id": "GQEYwDkkpKEm"
      },
      "execution_count": null,
      "outputs": []
    }
  ]
}