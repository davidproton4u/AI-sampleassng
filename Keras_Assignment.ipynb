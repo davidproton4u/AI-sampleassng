{
  "cells": [
    {
      "cell_type": "markdown",
      "metadata": {
        "id": "view-in-github",
        "colab_type": "text"
      },
      "source": [
        "<a href=\"https://colab.research.google.com/github/davidproton4u/AI-sampleassng/blob/main/Keras_Assignment.ipynb\" target=\"_parent\"><img src=\"https://colab.research.google.com/assets/colab-badge.svg\" alt=\"Open In Colab\"/></a>"
      ]
    },
    {
      "cell_type": "code",
      "execution_count": null,
      "metadata": {
        "id": "VVlJ91smLJyK"
      },
      "outputs": [],
      "source": [
        "#Submitting all the major imports for the running of the system. (Tensorfolw, Pandas, Numpy, Sklearn, Keras)\n",
        "\n",
        "import tensorflow as tf\n",
        "import pandas as pd\n",
        "import numpy as np\n",
        "from sklearn.model_selection import train_test_split\n",
        "from sklearn.datasets import load_iris\n",
        "from keras.models import Sequential\n",
        "from keras.layers import Dense, Activation\n",
        "from keras.optimizers import Adam\n",
        "from keras.losses import CategoricalCrossentropy,MeanSquaredError,BinaryCrossentropy\n",
        "from sklearn.preprocessing import OneHotEncoder"
      ]
    },
    {
      "cell_type": "code",
      "execution_count": null,
      "metadata": {
        "colab": {
          "base_uri": "https://localhost:8080/"
        },
        "id": "11CsJOjyGwDZ",
        "outputId": "50f7572d-96dd-475e-edd8-92dc5b02978f"
      },
      "outputs": [
        {
          "output_type": "stream",
          "name": "stdout",
          "text": [
            "Downloading data from https://storage.googleapis.com/tensorflow/tf-keras-datasets/mnist.npz\n",
            "11490434/11490434 [==============================] - 0s 0us/step\n"
          ]
        },
        {
          "output_type": "execute_result",
          "data": {
            "text/plain": [
              "array([[-0.54272586, -0.22611949, -0.1862148 , -0.07857635,  0.29943284,\n",
              "        -0.01178459, -0.52158827,  0.12814789, -0.28555933,  0.03022444]],\n",
              "      dtype=float32)"
            ]
          },
          "metadata": {},
          "execution_count": 2
        }
      ],
      "source": [
        "mnist=tf.keras.datasets.mnist\n",
        "(x_train,y_train),(x_test,y_test)=mnist.load_data()\n",
        "x_train,x_test=x_train/255.0,x_test/255.0\n",
        "model=tf.keras.models.Sequential([tf.keras.layers.Flatten(input_shape=(28, 28)),tf.keras.layers.Dense(128,activation='relu'),tf.keras.layers.Dropout(0,2),tf.keras.layers.Dense(10)])\n",
        "predictions=model(x_train[:1]).numpy()\n",
        "predictions"
      ]
    },
    {
      "cell_type": "code",
      "execution_count": null,
      "metadata": {
        "colab": {
          "base_uri": "https://localhost:8080/"
        },
        "id": "ecKe9VyaJ7ev",
        "outputId": "acd9e139-df71-436a-f3aa-9886a208c506"
      },
      "outputs": [
        {
          "output_type": "execute_result",
          "data": {
            "text/plain": [
              "array([[0.06469383, 0.08878984, 0.09240461, 0.10290594, 0.15017849,\n",
              "        0.11001394, 0.06607586, 0.1265376 , 0.08366597, 0.11473397]],\n",
              "      dtype=float32)"
            ]
          },
          "metadata": {},
          "execution_count": 3
        }
      ],
      "source": [
        "#Using the TF and Softmax commands\n",
        "tf.nn.softmax(predictions).numpy()"
      ]
    },
    {
      "cell_type": "code",
      "execution_count": null,
      "metadata": {
        "id": "giDvPtrzK2DA"
      },
      "outputs": [],
      "source": [
        "#Calc. Loss\n",
        "loss_fn=tf.keras.losses.SparseCategoricalCrossentropy(from_logits=True )"
      ]
    },
    {
      "cell_type": "code",
      "execution_count": null,
      "metadata": {
        "colab": {
          "base_uri": "https://localhost:8080/"
        },
        "id": "GX1pzk1JLXno",
        "outputId": "143e43ec-0d81-4ea1-bfac-bd127877c0e8"
      },
      "outputs": [
        {
          "output_type": "execute_result",
          "data": {
            "text/plain": [
              "2.207148"
            ]
          },
          "metadata": {},
          "execution_count": 5
        }
      ],
      "source": [
        "loss_fn(y_train[:1],predictions).numpy()"
      ]
    },
    {
      "cell_type": "code",
      "execution_count": null,
      "metadata": {
        "id": "yHIRcJHJLrHq"
      },
      "outputs": [],
      "source": [
        "model.compile(optimizer='adam',loss=loss_fn, metrics=['accuracy'])"
      ]
    },
    {
      "cell_type": "code",
      "execution_count": null,
      "metadata": {
        "colab": {
          "base_uri": "https://localhost:8080/"
        },
        "id": "GqiotT4hNAPw",
        "outputId": "6c707d6d-9f0c-4778-9499-d3ce922d6a95"
      },
      "outputs": [
        {
          "output_type": "stream",
          "name": "stdout",
          "text": [
            "Epoch 1/5\n",
            "1875/1875 [==============================] - 7s 4ms/step - loss: 0.2563 - accuracy: 0.9269\n",
            "Epoch 2/5\n",
            "1875/1875 [==============================] - 8s 4ms/step - loss: 0.1152 - accuracy: 0.9653\n",
            "Epoch 3/5\n",
            "1875/1875 [==============================] - 7s 4ms/step - loss: 0.0794 - accuracy: 0.9762\n",
            "Epoch 4/5\n",
            "1875/1875 [==============================] - 8s 4ms/step - loss: 0.0580 - accuracy: 0.9820\n",
            "Epoch 5/5\n",
            "1875/1875 [==============================] - 7s 4ms/step - loss: 0.0451 - accuracy: 0.9855\n"
          ]
        },
        {
          "output_type": "execute_result",
          "data": {
            "text/plain": [
              "<keras.callbacks.History at 0x7fa93d684670>"
            ]
          },
          "metadata": {},
          "execution_count": 7
        }
      ],
      "source": [
        "model.fit(x_train,y_train,epochs=5)"
      ]
    },
    {
      "cell_type": "code",
      "execution_count": null,
      "metadata": {
        "colab": {
          "base_uri": "https://localhost:8080/"
        },
        "id": "tbJpyb0QOyGT",
        "outputId": "e5a1ad4f-61f9-4d35-9ffd-9b0bbcd25712"
      },
      "outputs": [
        {
          "output_type": "stream",
          "name": "stdout",
          "text": [
            "313/313 - 1s - loss: 0.0764 - accuracy: 0.9769 - 622ms/epoch - 2ms/step\n"
          ]
        },
        {
          "output_type": "execute_result",
          "data": {
            "text/plain": [
              "[0.07640384882688522, 0.9768999814987183]"
            ]
          },
          "metadata": {},
          "execution_count": 8
        }
      ],
      "source": [
        "model.evaluate(x_test,y_test,verbose=2)"
      ]
    },
    {
      "cell_type": "code",
      "execution_count": null,
      "metadata": {
        "colab": {
          "base_uri": "https://localhost:8080/"
        },
        "id": "YCY9tCm7w8ZW",
        "outputId": "7caa4f23-d4bb-4508-b456-fc60313c3259"
      },
      "outputs": [
        {
          "output_type": "stream",
          "name": "stderr",
          "text": [
            "/usr/local/lib/python3.9/dist-packages/sklearn/preprocessing/_encoders.py:868: FutureWarning: `sparse` was renamed to `sparse_output` in version 1.2 and will be removed in 1.4. `sparse_output` is ignored unless you leave `sparse` to its default value.\n",
            "  warnings.warn(\n"
          ]
        }
      ],
      "source": [
        "#Loading the dataset - Iris.csv\n",
        "df = pd.read_csv(\"Iris.csv\")\n",
        "\n",
        "#Condition for the extraction from data frame\n",
        "df = df[df[\"species\"]!=\"Iris-setosa\"]\n",
        "y = df[\"species\"]\n",
        "X = df.loc[:, [\"sepal_length\", \"sepal_width\", \"petal_length\", \"petal_width\"]]\n",
        "\n",
        "# NumPy\n",
        "X = np.array(X)\n",
        "y = np.array(y)\n",
        "\n",
        "# Converting the label in the dataset to numbers\n",
        "y[y == \"Iris-versicolor\"] = 0\n",
        "y[y == \"Iris-virginica\"] = 1\n",
        "y = y.astype(np.int64)[:, np.newaxis]\n",
        "\n",
        "#Spliting into train and test\n",
        "X_train, X_test, y_train, y_test = train_test_split(X, y, test_size=0.2, random_state=0)\n",
        "enc = OneHotEncoder(handle_unknown='ignore', sparse=False)\n",
        "y_train_one_hot = enc.fit_transform(y_train)\n",
        "y_test_one_hot = enc.transform(y_test)"
      ]
    },
    {
      "cell_type": "code",
      "execution_count": null,
      "metadata": {
        "id": "vV9jwi4dE74a"
      },
      "outputs": [],
      "source": [
        "def classification_evaluation(x_train,y_train,x_test,crossentropy,verbose,output_units):\n",
        "  model=Sequential()\n",
        "  model.add(Dense(50,activation=tf.nn.relu))\n",
        "  model.add(Dense(100,activation=tf.nn.relu))\n",
        "  model.add(Dense(output_units,activation=tf.nn.sigmoid))\n",
        "  model.compile(optimizer=Adam(learning_rate=0.001),loss=crossentropy(),metrics=[\"accuracy\"])\n",
        "  model.fit(x_train,y_train,shuffle=True,batch_size=10,epochs=300,verbose=verbose)\n",
        "  score=model.evaluate(x_train,y_train,verbose=0)\n",
        "  print('Train loss:', score[0])\n",
        "  print('Train accuracy:',score[1])\n",
        "  pred_proba=model.predict(x_test,batch_size=10)[:,0]\n",
        "  rounded_preds=np.where(pred_proba> 0.5 , 1, 0)\n",
        "  print(rounded_preds)"
      ]
    },
    {
      "cell_type": "code",
      "execution_count": null,
      "metadata": {
        "colab": {
          "base_uri": "https://localhost:8080/"
        },
        "id": "DhONRaNvLYLN",
        "outputId": "0358eb27-c982-40ef-9c6f-6153856266d9"
      },
      "outputs": [
        {
          "output_type": "stream",
          "name": "stdout",
          "text": [
            "Train loss: 0.02058783918619156\n",
            "Train accuracy: 1.0\n",
            "2/2 [==============================] - 0s 5ms/step\n",
            "[0 1 0 1 1 1 0 1 1 1 1 1 1 0 0 0 1 0 1 0]\n"
          ]
        }
      ],
      "source": [
        "classification_evaluation(X_train,y_train,X_test,BinaryCrossentropy,0,1)"
      ]
    },
    {
      "cell_type": "code",
      "execution_count": null,
      "metadata": {
        "colab": {
          "base_uri": "https://localhost:8080/"
        },
        "id": "ouuiIM81WIU4",
        "outputId": "83b79301-67b6-42f1-a1dc-4d2cc83c1d22"
      },
      "outputs": [
        {
          "output_type": "stream",
          "name": "stderr",
          "text": [
            "/usr/local/lib/python3.9/dist-packages/sklearn/preprocessing/_encoders.py:868: FutureWarning: `sparse` was renamed to `sparse_output` in version 1.2 and will be removed in 1.4. `sparse_output` is ignored unless you leave `sparse` to its default value.\n",
            "  warnings.warn(\n"
          ]
        }
      ],
      "source": [
        "#Loading the dataset from the Iris.csv frame\n",
        "df = pd.read_csv(\"Iris.csv\")\n",
        "\n",
        "#Condition extraction from data frame\n",
        "y = df[\"species\"]\n",
        "X = df.loc[:, [\"sepal_length\", \"sepal_width\", \"petal_length\", \"petal_width\"]]\n",
        "\n",
        "# Numpy declarations\n",
        "X = np.array(X)\n",
        "y = np.array(y)\n",
        "\n",
        "# Converting the labels in the dataset to numbers\n",
        "y[y == \"Iris-setosa\"] = 0\n",
        "y[y == \"Iris-versicolor\"] = 1\n",
        "y[y == \"Iris-virginica\"] = 2\n",
        "y = y.astype(np.int64)[:, np.newaxis]\n",
        "\n",
        "#Spliting into train and test\n",
        "X_train, X_test, y_train, y_test = train_test_split(X, y, test_size=0.2, random_state=0)\n",
        "enc = OneHotEncoder(handle_unknown='ignore', sparse=False)\n",
        "y_train_one_hot = enc.fit_transform(y_train)\n",
        "y_test_one_hot = enc.transform(y_test)"
      ]
    },
    {
      "cell_type": "code",
      "execution_count": null,
      "metadata": {
        "colab": {
          "base_uri": "https://localhost:8080/"
        },
        "id": "6KEEjA0WFVMk",
        "outputId": "1ef1a23d-cf8a-4209-8bb0-6364ad5ede94"
      },
      "outputs": [
        {
          "output_type": "stream",
          "name": "stdout",
          "text": [
            "Train loss: 0.057767536491155624\n",
            "Train accuracy: 0.9750000238418579\n",
            "3/3 [==============================] - 0s 5ms/step\n",
            "[2 1 0 2 0 2 0 1 1 1 2 1 1 1 1 0 1 1 0 0 2 1 0 0 2 0 0 1 1 0]\n"
          ]
        }
      ],
      "source": [
        "model = Sequential()\n",
        "model.add(Dense(50, activation=tf.nn.relu))\n",
        "model.add(Dense(100, activation=tf.nn.relu))\n",
        "model.add(Dense(3, activation=tf.nn.softmax))\n",
        "model.compile(optimizer=Adam(learning_rate=0.001), loss=CategoricalCrossentropy(), metrics=[\"accuracy\"])\n",
        "model.fit(X_train, y_train_one_hot, shuffle=True, batch_size=10, epochs=300, verbose=0)\n",
        "score = model.evaluate(X_train, y_train_one_hot, verbose=0)\n",
        "print('Train loss:', score[0])\n",
        "print('Train accuracy:', score[1])\n",
        "pred_proba = model.predict(X_test,batch_size=10)\n",
        "pred = np.argmax(pred_proba, 1)\n",
        "print(pred)"
      ]
    },
    {
      "cell_type": "code",
      "execution_count": null,
      "metadata": {
        "colab": {
          "base_uri": "https://localhost:8080/",
          "height": 206
        },
        "id": "3BcXcDaKJjFd",
        "outputId": "4099c8cf-7d44-4ce8-e9c3-e98c8829f894"
      },
      "outputs": [
        {
          "output_type": "execute_result",
          "data": {
            "text/plain": [
              "   Id  House Size (sqft)  Number of Bedrooms      Location  House Price (GHS)\n",
              "0   1               1000                   2        Adenta             280000\n",
              "1   2               1500                   3    East Legon             450000\n",
              "2   3               2000                   4      Achimota             550000\n",
              "3   4               2200                   3  Spintex Road             600000\n",
              "4   5               2500                   4   Cantonments             750000"
            ],
            "text/html": [
              "\n",
              "  <div id=\"df-feb86d50-4ef8-49ee-a219-25f306331020\">\n",
              "    <div class=\"colab-df-container\">\n",
              "      <div>\n",
              "<style scoped>\n",
              "    .dataframe tbody tr th:only-of-type {\n",
              "        vertical-align: middle;\n",
              "    }\n",
              "\n",
              "    .dataframe tbody tr th {\n",
              "        vertical-align: top;\n",
              "    }\n",
              "\n",
              "    .dataframe thead th {\n",
              "        text-align: right;\n",
              "    }\n",
              "</style>\n",
              "<table border=\"1\" class=\"dataframe\">\n",
              "  <thead>\n",
              "    <tr style=\"text-align: right;\">\n",
              "      <th></th>\n",
              "      <th>Id</th>\n",
              "      <th>House Size (sqft)</th>\n",
              "      <th>Number of Bedrooms</th>\n",
              "      <th>Location</th>\n",
              "      <th>House Price (GHS)</th>\n",
              "    </tr>\n",
              "  </thead>\n",
              "  <tbody>\n",
              "    <tr>\n",
              "      <th>0</th>\n",
              "      <td>1</td>\n",
              "      <td>1000</td>\n",
              "      <td>2</td>\n",
              "      <td>Adenta</td>\n",
              "      <td>280000</td>\n",
              "    </tr>\n",
              "    <tr>\n",
              "      <th>1</th>\n",
              "      <td>2</td>\n",
              "      <td>1500</td>\n",
              "      <td>3</td>\n",
              "      <td>East Legon</td>\n",
              "      <td>450000</td>\n",
              "    </tr>\n",
              "    <tr>\n",
              "      <th>2</th>\n",
              "      <td>3</td>\n",
              "      <td>2000</td>\n",
              "      <td>4</td>\n",
              "      <td>Achimota</td>\n",
              "      <td>550000</td>\n",
              "    </tr>\n",
              "    <tr>\n",
              "      <th>3</th>\n",
              "      <td>4</td>\n",
              "      <td>2200</td>\n",
              "      <td>3</td>\n",
              "      <td>Spintex Road</td>\n",
              "      <td>600000</td>\n",
              "    </tr>\n",
              "    <tr>\n",
              "      <th>4</th>\n",
              "      <td>5</td>\n",
              "      <td>2500</td>\n",
              "      <td>4</td>\n",
              "      <td>Cantonments</td>\n",
              "      <td>750000</td>\n",
              "    </tr>\n",
              "  </tbody>\n",
              "</table>\n",
              "</div>\n",
              "      <button class=\"colab-df-convert\" onclick=\"convertToInteractive('df-feb86d50-4ef8-49ee-a219-25f306331020')\"\n",
              "              title=\"Convert this dataframe to an interactive table.\"\n",
              "              style=\"display:none;\">\n",
              "        \n",
              "  <svg xmlns=\"http://www.w3.org/2000/svg\" height=\"24px\"viewBox=\"0 0 24 24\"\n",
              "       width=\"24px\">\n",
              "    <path d=\"M0 0h24v24H0V0z\" fill=\"none\"/>\n",
              "    <path d=\"M18.56 5.44l.94 2.06.94-2.06 2.06-.94-2.06-.94-.94-2.06-.94 2.06-2.06.94zm-11 1L8.5 8.5l.94-2.06 2.06-.94-2.06-.94L8.5 2.5l-.94 2.06-2.06.94zm10 10l.94 2.06.94-2.06 2.06-.94-2.06-.94-.94-2.06-.94 2.06-2.06.94z\"/><path d=\"M17.41 7.96l-1.37-1.37c-.4-.4-.92-.59-1.43-.59-.52 0-1.04.2-1.43.59L10.3 9.45l-7.72 7.72c-.78.78-.78 2.05 0 2.83L4 21.41c.39.39.9.59 1.41.59.51 0 1.02-.2 1.41-.59l7.78-7.78 2.81-2.81c.8-.78.8-2.07 0-2.86zM5.41 20L4 18.59l7.72-7.72 1.47 1.35L5.41 20z\"/>\n",
              "  </svg>\n",
              "      </button>\n",
              "      \n",
              "  <style>\n",
              "    .colab-df-container {\n",
              "      display:flex;\n",
              "      flex-wrap:wrap;\n",
              "      gap: 12px;\n",
              "    }\n",
              "\n",
              "    .colab-df-convert {\n",
              "      background-color: #E8F0FE;\n",
              "      border: none;\n",
              "      border-radius: 50%;\n",
              "      cursor: pointer;\n",
              "      display: none;\n",
              "      fill: #1967D2;\n",
              "      height: 32px;\n",
              "      padding: 0 0 0 0;\n",
              "      width: 32px;\n",
              "    }\n",
              "\n",
              "    .colab-df-convert:hover {\n",
              "      background-color: #E2EBFA;\n",
              "      box-shadow: 0px 1px 2px rgba(60, 64, 67, 0.3), 0px 1px 3px 1px rgba(60, 64, 67, 0.15);\n",
              "      fill: #174EA6;\n",
              "    }\n",
              "\n",
              "    [theme=dark] .colab-df-convert {\n",
              "      background-color: #3B4455;\n",
              "      fill: #D2E3FC;\n",
              "    }\n",
              "\n",
              "    [theme=dark] .colab-df-convert:hover {\n",
              "      background-color: #434B5C;\n",
              "      box-shadow: 0px 1px 3px 1px rgba(0, 0, 0, 0.15);\n",
              "      filter: drop-shadow(0px 1px 2px rgba(0, 0, 0, 0.3));\n",
              "      fill: #FFFFFF;\n",
              "    }\n",
              "  </style>\n",
              "\n",
              "      <script>\n",
              "        const buttonEl =\n",
              "          document.querySelector('#df-feb86d50-4ef8-49ee-a219-25f306331020 button.colab-df-convert');\n",
              "        buttonEl.style.display =\n",
              "          google.colab.kernel.accessAllowed ? 'block' : 'none';\n",
              "\n",
              "        async function convertToInteractive(key) {\n",
              "          const element = document.querySelector('#df-feb86d50-4ef8-49ee-a219-25f306331020');\n",
              "          const dataTable =\n",
              "            await google.colab.kernel.invokeFunction('convertToInteractive',\n",
              "                                                     [key], {});\n",
              "          if (!dataTable) return;\n",
              "\n",
              "          const docLinkHtml = 'Like what you see? Visit the ' +\n",
              "            '<a target=\"_blank\" href=https://colab.research.google.com/notebooks/data_table.ipynb>data table notebook</a>'\n",
              "            + ' to learn more about interactive tables.';\n",
              "          element.innerHTML = '';\n",
              "          dataTable['output_type'] = 'display_data';\n",
              "          await google.colab.output.renderOutput(dataTable, element);\n",
              "          const docLink = document.createElement('div');\n",
              "          docLink.innerHTML = docLinkHtml;\n",
              "          element.appendChild(docLink);\n",
              "        }\n",
              "      </script>\n",
              "    </div>\n",
              "  </div>\n",
              "  "
            ]
          },
          "metadata": {},
          "execution_count": 3
        }
      ],
      "source": [
        "house_df=pd.read_csv(\"ghana.csv\")\n",
        "house_df.head()"
      ]
    },
    {
      "cell_type": "code",
      "execution_count": null,
      "metadata": {
        "id": "YlO7h2u9O2b2"
      },
      "outputs": [],
      "source": [
        "h_x=house_df[['Location','House Size (sqft)', 'Number of Bedrooms']]\n",
        "h_y=house_df['House Price (GHS)']"
      ]
    },
    {
      "cell_type": "code",
      "source": [
        "from sklearn import preprocessing\n",
        "le = preprocessing.LabelEncoder()\n",
        "le.fit(h_x['Location'])\n",
        "h_x['Location'] = le.transform(h_x['Location'])"
      ],
      "metadata": {
        "colab": {
          "base_uri": "https://localhost:8080/"
        },
        "id": "t_lximFyhI2e",
        "outputId": "923ba854-5f83-4ff8-c012-a79aaede01ff"
      },
      "execution_count": null,
      "outputs": [
        {
          "output_type": "stream",
          "name": "stderr",
          "text": [
            "<ipython-input-15-74b787ca5ec5>:4: SettingWithCopyWarning: \n",
            "A value is trying to be set on a copy of a slice from a DataFrame.\n",
            "Try using .loc[row_indexer,col_indexer] = value instead\n",
            "\n",
            "See the caveats in the documentation: https://pandas.pydata.org/pandas-docs/stable/user_guide/indexing.html#returning-a-view-versus-a-copy\n",
            "  h_x['Location'] = le.transform(h_x['Location'])\n"
          ]
        }
      ]
    },
    {
      "cell_type": "code",
      "execution_count": null,
      "metadata": {
        "colab": {
          "base_uri": "https://localhost:8080/"
        },
        "id": "58w46FDKJ69Y",
        "outputId": "73366327-6e5d-4a64-81ed-157756204fb4"
      },
      "outputs": [
        {
          "output_type": "execute_result",
          "data": {
            "text/plain": [
              "((92, 3), (92,))"
            ]
          },
          "metadata": {},
          "execution_count": 16
        }
      ],
      "source": [
        "h_x.shape,h_y.shape"
      ]
    },
    {
      "cell_type": "code",
      "execution_count": null,
      "metadata": {
        "id": "ims0a_8CQavw"
      },
      "outputs": [],
      "source": [
        "h_x_train,h_x_test,h_y_train,h_y_test=train_test_split(h_x,h_y,train_size=0.2,random_state=0)"
      ]
    },
    {
      "cell_type": "code",
      "source": [
        "model=Sequential()\n",
        "model.add(Dense(50,activation=tf.nn.relu))\n",
        "model.add(Dense(100,activation=tf.nn.relu))\n",
        "model.add(Dense(1,activation=tf.keras.activations.linear))\n",
        "model.compile(optimizer=Adam(learning_rate=0.001),loss=MeanSquaredError(),metrics=[\"mse\"])\n",
        "model.fit(h_x_train,h_y_train,shuffle=True,batch_size=10,epochs=20,verbose=0)\n",
        "score=model.evaluate(h_x_train,h_y_train,verbose=0)\n",
        "print('Loss:', score[0])\n",
        "print('MSE:',score[1])\n",
        "pred=model.predict(h_x_test,batch_size=10)\n",
        "print(pred.ravel())\n",
        "print(h_y_test.ravel())"
      ],
      "metadata": {
        "colab": {
          "base_uri": "https://localhost:8080/"
        },
        "id": "rR9BgVblA4VG",
        "outputId": "6a121150-02a8-449f-ab4b-be8cfb400db8"
      },
      "execution_count": null,
      "outputs": [
        {
          "output_type": "stream",
          "name": "stdout",
          "text": [
            "Loss: 194117673943040.0\n",
            "MSE: 194117673943040.0\n",
            "8/8 [==============================] - 0s 2ms/step\n",
            "[ 1678.2147   2013.8617   5034.4585   2182.6265   1426.6073   1008.17426\n",
            "  6544.653    9228.921    9899.928    7886.8247   4027.212    3356.5269\n",
            "  1594.9534   9732.515    3524.739    7048.3613   3776.4033  11074.688\n",
            "  5033.9272   1510.6853   3357.097    5537.5405   2937.295    3691.8887\n",
            "  9397.02     8894.013    5872.863    9061.732   10068.408   10570.997\n",
            "  1846.9978   8390.381   10236.072    1007.699    3272.3538   5705.6396\n",
            "  5370.352   11745.657    6712.485    6377.029    2097.9397   1929.8785\n",
            "  2685.1555   3188.1982   2853.3115   2517.323   10739.78     4531.3774\n",
            "   839.3527   2182.1514   1174.8483   4866.7954   1008.17426  2349.7937\n",
            "  1426.8923   5202.711    1510.7804   1678.9751   6879.578    6041.135\n",
            "  8725.2295   1259.4015   1846.9025   9564.243    1594.9534   7551.3296\n",
            "  3524.549    1343.6312   4699.0015  11410.088   11578.281    8054.239\n",
            "  4027.6692  10907.537  ]\n",
            "[  550000   680000  3800000   800000   320000   250000  6500000 22000000\n",
            " 24500000 14000000  1800000  1500000   430000 28000000  1450000  9000000\n",
            "  1800000 46000000  4000000   560000  1300000  4500000   900000  1650000\n",
            " 25000000 17500000  4000000 19000000 26000000 36000000   600000 16000000\n",
            " 32000000   380000  2100000  5200000  3500000 48000000  7000000  4500000\n",
            "   750000   660000  1400000   850000   950000  1200000 34500000  2300000\n",
            "   280000   800000   410000  2500000   250000   900000   320000  3200000\n",
            "   340000   630000  8500000  6000000 15500000   450000   620000 20000000\n",
            "   430000 13000000  1800000   350000  3000000 50000000 56000000 12500000\n",
            "  2500000 40000000]\n"
          ]
        }
      ]
    },
    {
      "cell_type": "code",
      "execution_count": null,
      "metadata": {
        "colab": {
          "base_uri": "https://localhost:8080/"
        },
        "id": "x6Q6VbbjNDWx",
        "outputId": "dc2ef8ac-b3eb-49bb-d5cf-5d3616bf597e"
      },
      "outputs": [
        {
          "output_type": "execute_result",
          "data": {
            "text/plain": [
              "(6000, 28, 28)"
            ]
          },
          "metadata": {},
          "execution_count": 45
        }
      ],
      "source": [
        "(x_train,y_train),(x_test,y_test)=mnist.load_data()\n",
        "x_train=x_train[0:6000,:]\n",
        "y_train=y_train[0:6000]\n",
        "x_test=x_test[0:6000,:]\n",
        "y_test=y_test[0:6000]\n",
        "x_train.shape"
      ]
    },
    {
      "cell_type": "code",
      "execution_count": null,
      "metadata": {
        "id": "wH611zgNOcPN"
      },
      "outputs": [],
      "source": [
        "x_train=x_train.reshape(-1, 784)\n",
        "x_test=x_test.reshape(-1,784)"
      ]
    },
    {
      "cell_type": "code",
      "execution_count": null,
      "metadata": {
        "id": "8rqz-waHOxkI"
      },
      "outputs": [],
      "source": [
        "x_train=x_train.astype(np.float64)\n",
        "x_test=x_test.astype(np.float64)\n",
        "x_train/=255\n",
        "x_test/=255"
      ]
    },
    {
      "cell_type": "code",
      "execution_count": null,
      "metadata": {
        "id": "Pokrq-3hSFg8"
      },
      "outputs": [],
      "source": [
        "m_x_train,m_x_test,m_y_train,m_y_test=train_test_split(x_train,y_train,test_size=0.2,random_state=0)"
      ]
    },
    {
      "cell_type": "code",
      "execution_count": null,
      "metadata": {
        "id": "zR6wblMyTDao"
      },
      "outputs": [],
      "source": [
        "enc=OneHotEncoder(handle_unknown='ignore',sparse_output=False)\n",
        "y_train_one_hot=enc.fit_transform(m_y_train[:,np.newaxis])\n",
        "y_test_one_hot=enc.transform(m_y_test[:,np.newaxis])"
      ]
    },
    {
      "cell_type": "code",
      "execution_count": null,
      "metadata": {
        "colab": {
          "base_uri": "https://localhost:8080/"
        },
        "id": "J7FdBe1HTsWo",
        "outputId": "abfe51d0-7957-4f34-8ea0-4d32c3ca872a"
      },
      "outputs": [
        {
          "output_type": "stream",
          "name": "stdout",
          "text": [
            "Train loss: 4.124170300201513e-05\n",
            "Train accuracy: 1.0\n",
            "120/120 [==============================] - 0s 1ms/step\n",
            "[9 9 4 ... 7 2 4]\n"
          ]
        }
      ],
      "source": [
        "model=Sequential()\n",
        "model.add(Dense(50,activation=tf.nn.relu))\n",
        "model.add(Dense(100,activation=tf.nn.relu))\n",
        "model.add(Dense(10,activation=tf.nn.softmax))\n",
        "model.compile(optimizer=Adam(learning_rate=0.001),loss=CategoricalCrossentropy(),metrics=[\"accuracy\"])\n",
        "model.fit(m_x_train,y_train_one_hot,shuffle=True,batch_size=10,epochs=300,verbose=0)\n",
        "score=model.evaluate(m_x_train,y_train_one_hot,verbose=0)\n",
        "print('Train loss:', score[0])\n",
        "print('Train accuracy:',score[1])\n",
        "pred_proba=model.predict(m_x_test,batch_size=10)\n",
        "pred=np.argmax(pred_proba,1)\n",
        "print(pred)"
      ]
    }
  ],
  "metadata": {
    "colab": {
      "provenance": [],
      "include_colab_link": true
    },
    "kernelspec": {
      "display_name": "Python 3",
      "name": "python3"
    },
    "language_info": {
      "name": "python"
    }
  },
  "nbformat": 4,
  "nbformat_minor": 0
}