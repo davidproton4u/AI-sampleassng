{
  "nbformat": 4,
  "nbformat_minor": 0,
  "metadata": {
    "colab": {
      "provenance": [],
      "authorship_tag": "ABX9TyNs19MwK3/L8BJkc5qmTV9K",
      "include_colab_link": true
    },
    "kernelspec": {
      "name": "python3",
      "display_name": "Python 3"
    },
    "language_info": {
      "name": "python"
    }
  },
  "cells": [
    {
      "cell_type": "markdown",
      "metadata": {
        "id": "view-in-github",
        "colab_type": "text"
      },
      "source": [
        "<a href=\"https://colab.research.google.com/github/davidproton4u/AI-sampleassng/blob/main/Matrix_Assignment.ipynb\" target=\"_parent\"><img src=\"https://colab.research.google.com/assets/colab-badge.svg\" alt=\"Open In Colab\"/></a>"
      ]
    },
    {
      "cell_type": "markdown",
      "source": [
        "#Matrix Assignment"
      ],
      "metadata": {
        "id": "AKZiuS0HzL7b"
      }
    },
    {
      "cell_type": "code",
      "execution_count": 2,
      "metadata": {
        "colab": {
          "base_uri": "https://localhost:8080/"
        },
        "id": "uQG1IDReyBNp",
        "outputId": "8b4620f4-c09f-4fd7-eca6-47578541922f"
      },
      "outputs": [
        {
          "output_type": "stream",
          "name": "stdout",
          "text": [
            "[[  6  29 -20]\n",
            " [ 12  52  38]\n",
            " [-18 -51 -48]]\n"
          ]
        }
      ],
      "source": [
        "import numpy as np\n",
        "a_ndarray = np.array([[-1, 2, 3], [4, -5, 6], [7, 8, -9]])\n",
        "b_ndarray = np.array([[0, 2, 1], [0, 2, -8], [2, 9, -1]])\n",
        "\n",
        "ab_ndarray = a_ndarray @ b_ndarray \n",
        "\n",
        "print(ab_ndarray)"
      ]
    },
    {
      "cell_type": "markdown",
      "source": [
        "#Problem 3 - Implementation of Calculation of a certain element"
      ],
      "metadata": {
        "id": "WFGOMx3f1Jls"
      }
    },
    {
      "cell_type": "code",
      "source": [
        "sum_of_ab_ndarray = (a_ndarray[1][0]*b_ndarray[0][1]+(a_ndarray[1][1]*b_ndarray[1][1])+(a_ndarray[1][2]*b_ndarray[2][1]))\n",
        "print(sum_of_ab_ndarray)"
      ],
      "metadata": {
        "colab": {
          "base_uri": "https://localhost:8080/"
        },
        "id": "E5ghnZIt1IrW",
        "outputId": "465d4205-8d42-40c0-c00b-b6eca54dda21"
      },
      "execution_count": 3,
      "outputs": [
        {
          "output_type": "stream",
          "name": "stdout",
          "text": [
            "52\n"
          ]
        }
      ]
    },
    {
      "cell_type": "markdown",
      "source": [
        "Problem 4 - Creating a function that performs a Matrix Multiplication"
      ],
      "metadata": {
        "id": "oUBnU3LR2un5"
      }
    },
    {
      "cell_type": "code",
      "source": [
        "def product_of_matrix(a, b):\n",
        "    ab_ndarray = np.empty([3,3])\n",
        "    for row in range(a.shape[0]):\n",
        "        for column in range(b.shape[1]):\n",
        "            ab_ndarray[row][column] = sum(a[row, :]*b[:, column])\n",
        "    return ab_ndarray\n",
        "print(product_of_matrix(a_ndarray, b_ndarray))"
      ],
      "metadata": {
        "colab": {
          "base_uri": "https://localhost:8080/"
        },
        "id": "XWQ_zoM22m_v",
        "outputId": "ea050138-4579-4e7d-87a3-2d088dd253dd"
      },
      "execution_count": 4,
      "outputs": [
        {
          "output_type": "stream",
          "name": "stdout",
          "text": [
            "[[  6.  29. -20.]\n",
            " [ 12.  52.  38.]\n",
            " [-18. -51. -48.]]\n"
          ]
        }
      ]
    },
    {
      "cell_type": "markdown",
      "source": [
        "#Problem 5 - Judge the input whose calculation is not defined"
      ],
      "metadata": {
        "id": "7b7RtgSb33qh"
      }
    },
    {
      "cell_type": "code",
      "source": [
        "d_ndarray = np.array([[-1, 2, 3], [4, -5, 6]])\n",
        "e_ndarray = np.array([[-9, 8, 7], [6, -5, 4]])\n",
        "if(d_ndarray.shape[0]==e_ndarray.shape[1]):\n",
        "    print(product_of_matrix(d_ndarray, e_ndarray))\n",
        "else:\n",
        "          print(\"Hello Programmer, there is a problem with the Size f the Matrices, which may result in incorrect calculations. Try again Later\")\n"
      ],
      "metadata": {
        "colab": {
          "base_uri": "https://localhost:8080/"
        },
        "id": "-73UnwDr31nN",
        "outputId": "cf88a280-ca60-4ed1-e11f-82e82c2923f3"
      },
      "execution_count": 6,
      "outputs": [
        {
          "output_type": "stream",
          "name": "stdout",
          "text": [
            "Hello Programmer, there is a problem with the Size f the Matrices, which may result in incorrect calculations. Try again Later\n"
          ]
        }
      ]
    },
    {
      "cell_type": "markdown",
      "source": [
        "#Problem 6 - Transposition"
      ],
      "metadata": {
        "id": "V9mT3Ppq5PVh"
      }
    },
    {
      "cell_type": "code",
      "source": [
        "f_ndarray = d_ndarray.T\n",
        "print(product_of_matrix(f_ndarray, e_ndarray))"
      ],
      "metadata": {
        "colab": {
          "base_uri": "https://localhost:8080/"
        },
        "id": "LQOZfEHj5OBK",
        "outputId": "0bb7ae51-6e40-46dd-daa0-d677598dca3c"
      },
      "execution_count": 7,
      "outputs": [
        {
          "output_type": "stream",
          "name": "stdout",
          "text": [
            "[[ 33. -28.   9.]\n",
            " [-48.  41.  -6.]\n",
            " [  9.  -6.  45.]]\n"
          ]
        }
      ]
    }
  ]
}