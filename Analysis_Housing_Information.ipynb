{
  "nbformat": 4,
  "nbformat_minor": 0,
  "metadata": {
    "colab": {
      "provenance": [],
      "authorship_tag": "ABX9TyMqH7G/RHOU4g8D+gPfBkX2",
      "include_colab_link": true
    },
    "kernelspec": {
      "name": "python3",
      "display_name": "Python 3"
    },
    "language_info": {
      "name": "python"
    }
  },
  "cells": [
    {
      "cell_type": "markdown",
      "metadata": {
        "id": "view-in-github",
        "colab_type": "text"
      },
      "source": [
        "<a href=\"https://colab.research.google.com/github/davidproton4u/AI-sampleassng/blob/main/Analysis_Housing_Information.ipynb\" target=\"_parent\"><img src=\"https://colab.research.google.com/assets/colab-badge.svg\" alt=\"Open In Colab\"/></a>"
      ]
    },
    {
      "cell_type": "code",
      "execution_count": null,
      "metadata": {
        "id": "uIA4vYIgzYS6"
      },
      "outputs": [],
      "source": [
        "import pandas as pd\n",
        "houses=pd.read_csv('train.csv')\n",
        "houses.columns"
      ]
    },
    {
      "cell_type": "markdown",
      "source": [
        "\"\"\"Data set is a set of housing data  information that contains charateristics of many house that can be considered before sales or renting\n",
        "\n",
        "It contains data like:\n",
        "- sale price, sale condition , house style and neighbors\n",
        "- it help in the visualization and understading of some important variables that drives the sales of houses\n",
        "\"\"\""
      ],
      "metadata": {
        "id": "nIRB3wVd0ikB"
      }
    },
    {
      "cell_type": "code",
      "source": [
        "houses.head()\n",
        "\n",
        "houses.info()\n",
        "\n",
        "houses.describe()"
      ],
      "metadata": {
        "id": "55nT-Qzt0Kaj"
      },
      "execution_count": null,
      "outputs": []
    },
    {
      "cell_type": "code",
      "source": [
        "import missingno as msno\n",
        "# %matplotlib inline \n",
        "msno.matrix(houses)\n",
        "\n",
        "total=houses.isnull().sum().sort_values(ascending=False)\n",
        "percent=(total/houses.isnull().count()).sort_values(ascending=False)\n",
        "missing_data=pd.concat([total,percent],axis=1,keys=['Total','percent'])\n",
        "missing_data.head(20)\n",
        "\n",
        "houses=houses.drop(houses.loc[houses['Electrical'].isnull()].index)\n",
        "houses.isnull().sum().max()"
      ],
      "metadata": {
        "id": "TC7covun0Kp8"
      },
      "execution_count": null,
      "outputs": []
    },
    {
      "cell_type": "code",
      "source": [
        "import seaborn as sns\n",
        "sns.distplot(houses['SalePrice'])\n",
        "\n",
        "print (\"skewness:\",houses['SalePrice'].skew()) \n",
        "print (\"kurtois:\",houses['SalePrice'].kurt())"
      ],
      "metadata": {
        "id": "uTDL7gl7z5cz"
      },
      "execution_count": null,
      "outputs": []
    },
    {
      "cell_type": "code",
      "source": [
        "import numpy as np\n",
        "logaritimically_transformed_houses=np.log(houses['SalePrice'])\n",
        "\n",
        "sns.distplot(logaritimically_transformed_houses)\n",
        "\n",
        "print (\"skewness:\",logaritimically_transformed_houses.skew()) \n",
        "print (\"kurtois:\",logaritimically_transformed_houses.kurt())"
      ],
      "metadata": {
        "id": "C_qZIOx_z5qc"
      },
      "execution_count": null,
      "outputs": []
    },
    {
      "cell_type": "code",
      "source": [
        "import matplotlib.pyplot as plt\n",
        "corrmat=houses.corr()\n",
        "f,ax=plt.subplots(figsize=(12,9))\n",
        "sns.heatmap(corrmat,vmax=.8,square=True)\n",
        "\n",
        "number_of_variables=10\n",
        "selected_cols=corrmat.nlargest(number_of_variables,'SalePrice')['SalePrice'].index\n",
        "correlation_coefficient=np.corrcoef(houses[selected_cols].values.T)\n",
        "sns.heatmap(correlation_coefficient,vmax=.8,square=True,yticklabels=selected_cols.values,xticklabels=selected_cols.values,annot=True)"
      ],
      "metadata": {
        "id": "G1qg9Q6Tz55o"
      },
      "execution_count": null,
      "outputs": []
    }
  ]
}